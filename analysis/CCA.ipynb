{
 "cells": [
  {
   "cell_type": "code",
   "execution_count": 23,
   "id": "fc53ff2d-e6ef-4a23-b3da-9fedf111bc8c",
   "metadata": {},
   "outputs": [],
   "source": [
    "import glob \n",
    "import os\n",
    "import pickle\n",
    "import numpy as np\n",
    "import torch\n",
    "import torch.nn as nn\n",
    "from torch.nn import functional as F  # activation function\n",
    "import torch.optim as optim\n",
    "from tqdm import tqdm\n",
    "import matplotlib.pyplot as plt\n",
    "from scipy.linalg import eig\n",
    "\n",
    "import poisevae\n",
    "from poisevae.datasets import CUB\n",
    "from poisevae.utils import NN_lookup\n",
    "\n",
    "plt.rcParams['pdf.fonttype'] = 42\n",
    "plt.rcParams['ps.fonttype'] = 42\n",
    "plt.rcParams['font.family'] = 'Times New Roman'\n",
    "plt.rcParams['font.size'] = 20\n",
    "plt.rcParams['font.weight'] = 'normal'\n",
    "plt.rcParams['mathtext.fontset'] = 'cm'\n",
    "plt.rcParams['text.usetex'] = False"
   ]
  },
  {
   "cell_type": "code",
   "execution_count": 24,
   "id": "c88e054b-b3bf-4631-86fe-bf8783273dcc",
   "metadata": {},
   "outputs": [],
   "source": [
    "def cca(views, k=None, eps=1e-12):\n",
    "    \"\"\"Compute (multi-view) CCA\n",
    "    Args:\n",
    "        views (list): list of views where each view `v_i` is of size `N x o_i`\n",
    "        k (int): joint projection dimension | if None, find using Otsu\n",
    "        eps (float): regulariser [default: 1e-12]\n",
    "    Returns:\n",
    "        correlations: correlations along each of the k dimensions\n",
    "        projections: projection matrices for each view\n",
    "    \"\"\"\n",
    "    V = len(views)  # number of views\n",
    "    N = views[0].size(0)  # number of observations (same across views)\n",
    "    os = [v.size(1) for v in views]\n",
    "    kmax = np.min(os)\n",
    "    ocum = np.cumsum([0] + os)\n",
    "    os_sum = sum(os)\n",
    "    A, B = np.zeros([os_sum, os_sum]), np.zeros([os_sum, os_sum])\n",
    "\n",
    "    for i in range(V):\n",
    "        v_i = views[i]\n",
    "        v_i_bar = v_i - v_i.mean(0).expand_as(v_i)  # centered, N x o_i\n",
    "        C_ij = (1.0 / (N - 1)) * torch.mm(v_i_bar.t(), v_i_bar)\n",
    "        # A[ocum[i]:ocum[i + 1], ocum[i]:ocum[i + 1]] = C_ij\n",
    "        B[ocum[i]:ocum[i + 1], ocum[i]:ocum[i + 1]] = C_ij\n",
    "        for j in range(i + 1, V):\n",
    "            v_j = views[j]  # N x o_j\n",
    "            v_j_bar = v_j - v_j.mean(0).expand_as(v_j)  # centered\n",
    "            C_ij = (1.0 / (N - 1)) * torch.mm(v_i_bar.t(), v_j_bar)\n",
    "            A[ocum[i]:ocum[i + 1], ocum[j]:ocum[j + 1]] = C_ij\n",
    "            A[ocum[j]:ocum[j + 1], ocum[i]:ocum[i + 1]] = C_ij.t()\n",
    "\n",
    "    A[np.diag_indices_from(A)] += eps\n",
    "    B[np.diag_indices_from(B)] += eps\n",
    "\n",
    "    eigenvalues, eigenvectors = eig(A, B)\n",
    "    # TODO: sanity check to see that all eigenvalues are e+0i\n",
    "    idx = eigenvalues.argsort()[::-1]  # sort descending\n",
    "    eigenvalues = eigenvalues[idx]  # arrange in descending order\n",
    "\n",
    "    if k is None:\n",
    "        t = threshold(eigenvalues.real[:kmax])\n",
    "        k = np.abs(np.asarray(eigenvalues.real[0::10]) - t).argmin() * 10  # closest k % 10 == 0 idx\n",
    "        print('k unspecified, (auto-)choosing:', k)\n",
    "\n",
    "    eigenvalues = eigenvalues[idx[:k]]\n",
    "    eigenvectors = eigenvectors[:, idx[:k]]\n",
    "\n",
    "    correlations = torch.from_numpy(eigenvalues.real).type_as(views[0])\n",
    "    proj_matrices = torch.split(torch.from_numpy(eigenvectors.real).type_as(views[0]), os)\n",
    "\n",
    "    return correlations, proj_matrices"
   ]
  },
  {
   "cell_type": "code",
   "execution_count": 42,
   "id": "8e103945-db81-4a76-89d2-09b144c2dfd3",
   "metadata": {},
   "outputs": [],
   "source": [
    "true_img_ft = torch.load('true_data_img_feature.pt').to('cpu', dtype=torch.float32)\n",
    "true_sent_emb = torch.load('true_data_sent_embedding.pt').to('cpu', dtype=torch.float32)"
   ]
  },
  {
   "cell_type": "code",
   "execution_count": 43,
   "id": "e4523e08-62f9-421b-ac49-29ca7b01afb9",
   "metadata": {},
   "outputs": [],
   "source": [
    "corr, (img_cca, txt_cca) = cca([true_img_ft, true_sent_emb], k=40)"
   ]
  },
  {
   "cell_type": "code",
   "execution_count": 44,
   "id": "f10a7014-8ed9-4bdb-8b38-8d13c35c2749",
   "metadata": {},
   "outputs": [],
   "source": [
    "torch.save(img_cca, 'true_data_img_feature_cca.pt')\n",
    "torch.save(txt_cca, 'true_data_sent_embedding_cca.pt')"
   ]
  },
  {
   "cell_type": "code",
   "execution_count": 45,
   "id": "b4deb912-b952-45ef-86d2-371a7fc05934",
   "metadata": {},
   "outputs": [],
   "source": [
    "def calculate_corr(imgs, txts, true_img_mean, true_txt_mean, img_cca, txt_cca):\n",
    "    corr = F.cosine_similarity((imgs - true_img_mean) @ img_cca,\n",
    "                                (txts - true_txt_mean) @ txt_cca).mean()\n",
    "    return corr"
   ]
  },
  {
   "cell_type": "code",
   "execution_count": 46,
   "id": "8f7c4f62-6bac-45eb-9246-8c4d4e3f7a97",
   "metadata": {},
   "outputs": [],
   "source": [
    "true_img_mean = true_img_ft.mean(dim=0)\n",
    "true_txt_mean = true_sent_emb.mean(dim=0)\n",
    "\n",
    "true_corr = calculate_corr(true_img_ft, true_sent_emb, true_img_mean, true_txt_mean, img_cca, txt_cca)"
   ]
  },
  {
   "cell_type": "code",
   "execution_count": 47,
   "id": "49bb28b8-1b45-41dc-ade2-4a2d6aef8f33",
   "metadata": {},
   "outputs": [
    {
     "data": {
      "text/plain": [
       "tensor(0.1393)"
      ]
     },
     "execution_count": 47,
     "metadata": {},
     "output_type": "execute_result"
    }
   ],
   "source": [
    "true_corr"
   ]
  },
  {
   "cell_type": "code",
   "execution_count": null,
   "id": "90a94a18-1f80-4314-a297-8cef954484e0",
   "metadata": {},
   "outputs": [],
   "source": []
  }
 ],
 "metadata": {
  "kernelspec": {
   "display_name": "Python 3 (ipykernel)",
   "language": "python",
   "name": "python3"
  },
  "language_info": {
   "codemirror_mode": {
    "name": "ipython",
    "version": 3
   },
   "file_extension": ".py",
   "mimetype": "text/x-python",
   "name": "python",
   "nbconvert_exporter": "python",
   "pygments_lexer": "ipython3",
   "version": "3.8.10"
  }
 },
 "nbformat": 4,
 "nbformat_minor": 5
}
