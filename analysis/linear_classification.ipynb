{
 "cells": [
  {
   "cell_type": "code",
   "execution_count": null,
   "id": "9158965b-111f-47b8-aa8a-bc6ef0f71b9e",
   "metadata": {},
   "outputs": [],
   "source": [
    "import os\n",
    "\n",
    "import numpy as np\n",
    "\n",
    "import torch\n",
    "import torch.nn as nn\n",
    "from torch.distributions import Normal, Laplace\n",
    "\n",
    "import poisevae\n",
    "from poisevae.datasets import MNIST_SVHN\n",
    "from poisevae.networks.MNISTSVHNNetworks import EncMNIST, DecMNIST, EncSVHN, DecSVHN\n",
    "\n",
    "import matplotlib.pyplot as plt\n",
    "\n",
    "from sklearn.metrics import accuracy_score\n",
    "from sklearn.linear_model import LogisticRegression\n",
    "\n",
    "plt.rcParams['pdf.fonttype'] = 42\n",
    "plt.rcParams['ps.fonttype'] = 42\n",
    "plt.rcParams['font.family'] = 'Times New Roman'\n",
    "plt.rcParams['font.size'] = 20\n",
    "plt.rcParams['font.weight'] = 'normal'\n",
    "plt.rcParams['mathtext.fontset'] = 'cm'\n",
    "plt.rcParams['text.usetex'] = False"
   ]
  },
  {
   "cell_type": "code",
   "execution_count": 2,
   "id": "9431444e-4f93-4774-a37d-800374ea499d",
   "metadata": {},
   "outputs": [],
   "source": [
    "HOME_PATH = os.path.expanduser('~')"
   ]
  },
  {
   "cell_type": "code",
   "execution_count": 3,
   "id": "789b8cf5-6c24-4175-b87b-fc7d8dc8d79a",
   "metadata": {},
   "outputs": [
    {
     "data": {
      "text/plain": [
       "'cuda'"
      ]
     },
     "execution_count": 3,
     "metadata": {},
     "output_type": "execute_result"
    }
   ],
   "source": [
    "device = 'cuda' if torch.cuda.is_available() else 'cpu'\n",
    "device"
   ]
  },
  {
   "cell_type": "code",
   "execution_count": 4,
   "id": "27982ee9-eb51-4b47-b7bc-8588a5f1fe6a",
   "metadata": {},
   "outputs": [],
   "source": [
    "MNIST_PATH = os.path.join(HOME_PATH, 'Datasets/MNIST/%s.pt')\n",
    "SVHN_PATH = os.path.join(HOME_PATH, 'Datasets/SVHN/%s_32x32.mat')\n",
    "\n",
    "joint_dataset_train = MNIST_SVHN(mnist_pt_path=MNIST_PATH % 'train', svhn_mat_path=SVHN_PATH % 'train')\n",
    "joint_dataset_test = MNIST_SVHN(mnist_pt_path=MNIST_PATH % 'test', svhn_mat_path=SVHN_PATH % 'test')"
   ]
  },
  {
   "cell_type": "code",
   "execution_count": 5,
   "id": "91d1ad0c-b498-4726-8054-8bf6125eb9e5",
   "metadata": {},
   "outputs": [
    {
     "data": {
      "text/plain": [
       "(234, 39)"
      ]
     },
     "execution_count": 5,
     "metadata": {},
     "output_type": "execute_result"
    }
   ],
   "source": [
    "batch_size = 1000\n",
    "loader = torch.utils.data.DataLoader(joint_dataset_train, batch_size=batch_size, shuffle=True, drop_last=True)"
   ]
  },
  {
   "cell_type": "code",
   "execution_count": 7,
   "id": "fa0ddfdd-29ac-44bd-8bad-ed366b6a4aae",
   "metadata": {},
   "outputs": [],
   "source": [
    "lat1, lat2 = 16, 24\n",
    "enc_mnist = EncMNIST(lat1).to(device)\n",
    "dec_mnist = DecMNIST(lat1).to(device)\n",
    "enc_svhn = EncSVHN(lat2).to(device)\n",
    "dec_svhn = DecSVHN(lat2).to(device)\n",
    "    \n",
    "vae = poisevae.POISEVAE([enc_mnist, enc_svhn], [dec_mnist, dec_svhn], likelihoods=[Laplace, Laplace],\n",
    "                        latent_dims=[lat1, (lat2, 1, 1)], batch_size=batch_size).to(device)"
   ]
  },
  {
   "cell_type": "code",
   "execution_count": 16,
   "id": "9948b480-cf9f-4f1e-984e-43e207002083",
   "metadata": {},
   "outputs": [],
   "source": [
    "path = 'runs/MNIST_SVHN'\n",
    "vae, _, epoch = poisevae.utils.load_checkpoint(vae, load_path=sorted(glob.glob(os.path.join(PATH, 'train*.pt')))[-1])\n",
    "epoch"
   ]
  },
  {
   "cell_type": "code",
   "execution_count": 17,
   "id": "4b0628c1-fc9d-4c63-9fb2-76d8016e684a",
   "metadata": {},
   "outputs": [],
   "source": [
    "with torch.no_grad():\n",
    "    for i, data in enumerate(test_loader):\n",
    "        label = data[-1]\n",
    "        data = [data[0].to(device, dtype=torch.float32), data[1].to(device, dtype=torch.float32)]\n",
    "        results = vae(data)\n",
    "        break"
   ]
  },
  {
   "cell_type": "code",
   "execution_count": null,
   "id": "38f3f39f-ee80-47f3-98a0-705d84a6a54c",
   "metadata": {},
   "outputs": [],
   "source": [
    "MNIST_latent_clf = LogisticRegression(solver='lbfgs', multi_class='auto', max_iter=1000)\n",
    "MNIST_latent_clf.fit(data, label)"
   ]
  },
  {
   "cell_type": "code",
   "execution_count": null,
   "id": "56b4a79d-1d09-489b-856c-ac1a672e5902",
   "metadata": {},
   "outputs": [],
   "source": [
    "SVHN_latent_clf = LogisticRegression(solver='lbfgs', multi_class='auto', max_iter=1000)\n",
    "SVHN_latent_clf.fit(data, label)"
   ]
  }
 ],
 "metadata": {
  "kernelspec": {
   "display_name": "Python 3 (ipykernel)",
   "language": "python",
   "name": "python3"
  },
  "language_info": {
   "codemirror_mode": {
    "name": "ipython",
    "version": 3
   },
   "file_extension": ".py",
   "mimetype": "text/x-python",
   "name": "python",
   "nbconvert_exporter": "python",
   "pygments_lexer": "ipython3",
   "version": "3.8.10"
  }
 },
 "nbformat": 4,
 "nbformat_minor": 5
}
