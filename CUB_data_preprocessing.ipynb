{
 "cells": [
  {
   "cell_type": "code",
   "execution_count": 1,
   "id": "e2153724-6f75-4a34-b2d8-1bfce7ee3a8f",
   "metadata": {},
   "outputs": [],
   "source": [
    "from CUBDatasets import CUBImageFt, CUBSentences\n",
    "import torch"
   ]
  },
  {
   "cell_type": "code",
   "execution_count": 2,
   "id": "e9539e70-b16e-46f6-9ba7-f9cff318b3a5",
   "metadata": {},
   "outputs": [],
   "source": [
    "# If the below raise LookupError about punkt, run this\n",
    "# import nltk\n",
    "# nltk.download('punkt')"
   ]
  },
  {
   "cell_type": "code",
   "execution_count": 3,
   "id": "934baba0-0b50-46e4-a50e-bcc979245325",
   "metadata": {},
   "outputs": [],
   "source": [
    "RAWDATA_PATH = 'data'"
   ]
  },
  {
   "cell_type": "code",
   "execution_count": 4,
   "id": "b33196dc-09e0-4052-bbf4-5963190d5423",
   "metadata": {},
   "outputs": [],
   "source": [
    "tx = lambda data: torch.Tensor(data)"
   ]
  },
  {
   "cell_type": "code",
   "execution_count": 5,
   "id": "6b7b617e-976e-4482-863b-4e598611f038",
   "metadata": {},
   "outputs": [],
   "source": [
    "device = 'cuda' if torch.cuda.is_available() else 'cpu'"
   ]
  },
  {
   "cell_type": "code",
   "execution_count": 6,
   "id": "e6d82866-bf1f-4722-a77f-5525285c9379",
   "metadata": {},
   "outputs": [],
   "source": [
    "img_train = CUBImageFt(RAWDATA_PATH, split='train', device=device)\n",
    "img_test = CUBImageFt(RAWDATA_PATH, split='test', device=device)"
   ]
  },
  {
   "cell_type": "code",
   "execution_count": 7,
   "id": "e212986a-cf38-42fe-9d05-91c01fc55295",
   "metadata": {},
   "outputs": [
    {
     "data": {
      "text/plain": [
       "(8855, 2933)"
      ]
     },
     "execution_count": 7,
     "metadata": {},
     "output_type": "execute_result"
    }
   ],
   "source": [
    "len(img_train), len(img_test)"
   ]
  },
  {
   "cell_type": "code",
   "execution_count": 8,
   "id": "a9743c6f-2e2d-4c30-acec-f448999823b7",
   "metadata": {},
   "outputs": [],
   "source": [
    "# If the below raise LookupError about punkt, run this\n",
    "# import nltk\n",
    "# nltk.download('punkt')"
   ]
  },
  {
   "cell_type": "code",
   "execution_count": 9,
   "id": "46bcf2ee-4073-4df0-8c15-42519cfcb8d3",
   "metadata": {},
   "outputs": [],
   "source": [
    "maxSentLen = 32\n",
    "txt_train = CUBSentences(RAWDATA_PATH, split='train', transform=tx, max_sequence_length=maxSentLen)\n",
    "txt_test = CUBSentences(RAWDATA_PATH, split='test', transform=tx, max_sequence_length=maxSentLen)\n",
    "# Each entry of the dataset is a 2-tuple (padded sentence embedding, actual length)"
   ]
  },
  {
   "cell_type": "code",
   "execution_count": 10,
   "id": "396ff922-9ba3-421e-8678-c6c7c8a1a089",
   "metadata": {},
   "outputs": [
    {
     "data": {
      "text/plain": [
       "(88550, 29330)"
      ]
     },
     "execution_count": 10,
     "metadata": {},
     "output_type": "execute_result"
    }
   ],
   "source": [
    "# Ten sentences for each image\n",
    "len(txt_train), len(txt_test)"
   ]
  },
  {
   "cell_type": "markdown",
   "id": "806ef3ab-d77b-4b47-ba34-59e83dffefee",
   "metadata": {
    "tags": []
   },
   "source": [
    "## Test"
   ]
  },
  {
   "cell_type": "code",
   "execution_count": 10,
   "id": "2fd3d795-1118-490f-9591-713d9a07ad33",
   "metadata": {},
   "outputs": [
    {
     "data": {
      "text/plain": [
       "45"
      ]
     },
     "execution_count": 10,
     "metadata": {},
     "output_type": "execute_result"
    }
   ],
   "source": [
    "img_training_generator = torch.utils.data.DataLoader(img_train, batch_size=200, shuffle=True)\n",
    "len(img_training_generator)"
   ]
  },
  {
   "cell_type": "code",
   "execution_count": 11,
   "id": "08ea6215-fa46-4bb3-83cf-b90e944fc749",
   "metadata": {},
   "outputs": [],
   "source": [
    "# for i, img in enumerate(img_training_generator):\n",
    "#     print(i, img.shape)"
   ]
  },
  {
   "cell_type": "code",
   "execution_count": 12,
   "id": "3e2130a2-bc12-4455-a3be-c522525b7dee",
   "metadata": {},
   "outputs": [
    {
     "data": {
      "text/plain": [
       "15"
      ]
     },
     "execution_count": 12,
     "metadata": {},
     "output_type": "execute_result"
    }
   ],
   "source": [
    "img_testing_generator = torch.utils.data.DataLoader(img_test, batch_size=200, shuffle=True)\n",
    "len(img_testing_generator)"
   ]
  },
  {
   "cell_type": "code",
   "execution_count": 13,
   "id": "8df2e08a-0533-4795-a6fa-73418c0c4305",
   "metadata": {},
   "outputs": [],
   "source": [
    "# for i, img in enumerate(img_testing_generator):\n",
    "#     print(i, img.shape)"
   ]
  },
  {
   "cell_type": "code",
   "execution_count": 14,
   "id": "76fdbd79-0ac4-4953-9a2b-a3f9ac3e29eb",
   "metadata": {},
   "outputs": [
    {
     "data": {
      "text/plain": [
       "45"
      ]
     },
     "execution_count": 14,
     "metadata": {},
     "output_type": "execute_result"
    }
   ],
   "source": [
    "txt_training_generator = torch.utils.data.DataLoader(txt_train, batch_size=2000, shuffle=True)\n",
    "len(txt_training_generator)"
   ]
  },
  {
   "cell_type": "code",
   "execution_count": 15,
   "id": "fea1eff0-bc87-4b01-a247-b6218eb6d99a",
   "metadata": {},
   "outputs": [],
   "source": [
    "# for i, txt in enumerate(txt_training_generator):\n",
    "#     print(i, len(txt), txt[0].shape, txt[1].shape)"
   ]
  },
  {
   "cell_type": "code",
   "execution_count": 16,
   "id": "816f70ef-6acb-411c-8be7-b743d7863603",
   "metadata": {},
   "outputs": [
    {
     "data": {
      "text/plain": [
       "15"
      ]
     },
     "execution_count": 16,
     "metadata": {},
     "output_type": "execute_result"
    }
   ],
   "source": [
    "txt_testing_generator = torch.utils.data.DataLoader(txt_test, batch_size=2000, shuffle=True)\n",
    "len(txt_testing_generator)"
   ]
  },
  {
   "cell_type": "code",
   "execution_count": 17,
   "id": "83e1225a-6883-4432-ba65-9f79ffe270a1",
   "metadata": {},
   "outputs": [],
   "source": [
    "# for i, txt in enumerate(txt_testing_generator):\n",
    "#     print(i, len(txt), txt[0].shape, txt[1].shape)"
   ]
  },
  {
   "cell_type": "code",
   "execution_count": 18,
   "id": "cbb4d715-b348-49e2-96ac-94fba55d95af",
   "metadata": {},
   "outputs": [],
   "source": [
    "# EOS = 2\n",
    "# for i, l in enumerate(txt[1]):\n",
    "#     try:\n",
    "#         print(torch.where(txt[0][i] == EOS)[0][0] + 1 == l)\n",
    "#     except:\n",
    "#         print(txt[0][i])"
   ]
  },
  {
   "cell_type": "markdown",
   "id": "5807725d-7e67-47aa-ad3d-60145b2cf492",
   "metadata": {
    "tags": []
   },
   "source": [
    "## Joint Dataloader"
   ]
  },
  {
   "cell_type": "code",
   "execution_count": 19,
   "id": "02f08bc9-1d9c-477d-9638-b7698aaf0ff6",
   "metadata": {},
   "outputs": [],
   "source": [
    "class CUB(torch.utils.data.Dataset):\n",
    "    def __init__(self, img_data_dir, txt_data_dir, split, device, transform=None, **kwargs):\n",
    "        \"\"\"split: 'train' or 'test' \"\"\"\n",
    "        super().__init__()\n",
    "        self.CUBtxt = CUBSentences(txt_data_dir, split=split, transform=transform, **kwargs)\n",
    "        self.CUBimg = CUBImageFt(img_data_dir, split=split, device=device)\n",
    "        \n",
    "    def __len__(self):\n",
    "        return len(self.CUBtxt)\n",
    "    \n",
    "    def __getitem__(self, idx):\n",
    "        txt = self.CUBtxt.__getitem__(idx)\n",
    "        img = self.CUBimg.__getitem__(idx // 10)\n",
    "        return img, txt"
   ]
  },
  {
   "cell_type": "code",
   "execution_count": 13,
   "id": "06ed6c9f-4ca0-4e1a-87a5-3a4d05e538a1",
   "metadata": {},
   "outputs": [],
   "source": [
    "from joint_dataset import CUB"
   ]
  },
  {
   "cell_type": "code",
   "execution_count": 14,
   "id": "c0513a4f-e792-4606-a624-478562027aa4",
   "metadata": {},
   "outputs": [],
   "source": [
    "CUB_train = CUB(RAWDATA_PATH, RAWDATA_PATH, 'train', device, tx)"
   ]
  },
  {
   "cell_type": "code",
   "execution_count": 15,
   "id": "6e601a8c-e46f-4cf0-9985-f2431788ec5c",
   "metadata": {},
   "outputs": [
    {
     "data": {
      "text/plain": [
       "45"
      ]
     },
     "execution_count": 15,
     "metadata": {},
     "output_type": "execute_result"
    }
   ],
   "source": [
    "training_generator = torch.utils.data.DataLoader(CUB_train, batch_size=2000, shuffle=False)\n",
    "len(training_generator)"
   ]
  },
  {
   "cell_type": "code",
   "execution_count": 16,
   "id": "63ef57eb-575f-4d5f-ac49-32fc9b23b74f",
   "metadata": {},
   "outputs": [
    {
     "name": "stdout",
     "output_type": "stream",
     "text": [
      "0 torch.Size([200, 2048]) torch.Size([2000, 32])\n",
      "1 torch.Size([200, 2048]) torch.Size([2000, 32])\n",
      "2 torch.Size([200, 2048]) torch.Size([2000, 32])\n",
      "3 torch.Size([200, 2048]) torch.Size([2000, 32])\n",
      "4 torch.Size([200, 2048]) torch.Size([2000, 32])\n",
      "5 torch.Size([200, 2048]) torch.Size([2000, 32])\n",
      "6 torch.Size([200, 2048]) torch.Size([2000, 32])\n",
      "7 torch.Size([200, 2048]) torch.Size([2000, 32])\n",
      "8 torch.Size([200, 2048]) torch.Size([2000, 32])\n",
      "9 torch.Size([200, 2048]) torch.Size([2000, 32])\n",
      "10 torch.Size([200, 2048]) torch.Size([2000, 32])\n",
      "11 torch.Size([200, 2048]) torch.Size([2000, 32])\n",
      "12 torch.Size([200, 2048]) torch.Size([2000, 32])\n",
      "13 torch.Size([200, 2048]) torch.Size([2000, 32])\n",
      "14 torch.Size([200, 2048]) torch.Size([2000, 32])\n",
      "15 torch.Size([200, 2048]) torch.Size([2000, 32])\n",
      "16 torch.Size([200, 2048]) torch.Size([2000, 32])\n",
      "17 torch.Size([200, 2048]) torch.Size([2000, 32])\n",
      "18 torch.Size([200, 2048]) torch.Size([2000, 32])\n",
      "19 torch.Size([200, 2048]) torch.Size([2000, 32])\n",
      "20 torch.Size([200, 2048]) torch.Size([2000, 32])\n",
      "21 torch.Size([200, 2048]) torch.Size([2000, 32])\n",
      "22 torch.Size([200, 2048]) torch.Size([2000, 32])\n",
      "23 torch.Size([200, 2048]) torch.Size([2000, 32])\n",
      "24 torch.Size([200, 2048]) torch.Size([2000, 32])\n",
      "25 torch.Size([200, 2048]) torch.Size([2000, 32])\n",
      "26 torch.Size([200, 2048]) torch.Size([2000, 32])\n",
      "27 torch.Size([200, 2048]) torch.Size([2000, 32])\n",
      "28 torch.Size([200, 2048]) torch.Size([2000, 32])\n",
      "29 torch.Size([200, 2048]) torch.Size([2000, 32])\n",
      "30 torch.Size([200, 2048]) torch.Size([2000, 32])\n",
      "31 torch.Size([200, 2048]) torch.Size([2000, 32])\n",
      "32 torch.Size([200, 2048]) torch.Size([2000, 32])\n",
      "33 torch.Size([200, 2048]) torch.Size([2000, 32])\n",
      "34 torch.Size([200, 2048]) torch.Size([2000, 32])\n",
      "35 torch.Size([200, 2048]) torch.Size([2000, 32])\n",
      "36 torch.Size([200, 2048]) torch.Size([2000, 32])\n",
      "37 torch.Size([200, 2048]) torch.Size([2000, 32])\n",
      "38 torch.Size([200, 2048]) torch.Size([2000, 32])\n",
      "39 torch.Size([200, 2048]) torch.Size([2000, 32])\n",
      "40 torch.Size([200, 2048]) torch.Size([2000, 32])\n",
      "41 torch.Size([200, 2048]) torch.Size([2000, 32])\n",
      "42 torch.Size([200, 2048]) torch.Size([2000, 32])\n",
      "43 torch.Size([200, 2048]) torch.Size([2000, 32])\n",
      "44 torch.Size([55, 2048]) torch.Size([550, 32])\n"
     ]
    }
   ],
   "source": [
    "for i, (img, txt) in enumerate(training_generator):\n",
    "    print(i, torch.unique(img, dim=0).shape, txt[0].shape)"
   ]
  },
  {
   "cell_type": "code",
   "execution_count": 17,
   "id": "1a4519c2-eee6-4a74-bff7-55cd2376bdc7",
   "metadata": {},
   "outputs": [],
   "source": [
    "CUB_test = CUB(RAWDATA_PATH, RAWDATA_PATH, 'test', device, tx)"
   ]
  },
  {
   "cell_type": "code",
   "execution_count": 18,
   "id": "f51f25c6-e37d-434a-a251-f119e9eb188c",
   "metadata": {},
   "outputs": [
    {
     "data": {
      "text/plain": [
       "15"
      ]
     },
     "execution_count": 18,
     "metadata": {},
     "output_type": "execute_result"
    }
   ],
   "source": [
    "testing_generator = torch.utils.data.DataLoader(CUB_test, batch_size=2000, shuffle=False)\n",
    "len(testing_generator)"
   ]
  },
  {
   "cell_type": "code",
   "execution_count": 19,
   "id": "3bd468f3-f544-4553-82d1-31679da48abe",
   "metadata": {},
   "outputs": [
    {
     "name": "stdout",
     "output_type": "stream",
     "text": [
      "0 torch.Size([200, 2048]) torch.Size([2000, 32])\n",
      "1 torch.Size([200, 2048]) torch.Size([2000, 32])\n",
      "2 torch.Size([200, 2048]) torch.Size([2000, 32])\n",
      "3 torch.Size([200, 2048]) torch.Size([2000, 32])\n",
      "4 torch.Size([200, 2048]) torch.Size([2000, 32])\n",
      "5 torch.Size([200, 2048]) torch.Size([2000, 32])\n",
      "6 torch.Size([200, 2048]) torch.Size([2000, 32])\n",
      "7 torch.Size([200, 2048]) torch.Size([2000, 32])\n",
      "8 torch.Size([200, 2048]) torch.Size([2000, 32])\n",
      "9 torch.Size([200, 2048]) torch.Size([2000, 32])\n",
      "10 torch.Size([200, 2048]) torch.Size([2000, 32])\n",
      "11 torch.Size([200, 2048]) torch.Size([2000, 32])\n",
      "12 torch.Size([200, 2048]) torch.Size([2000, 32])\n",
      "13 torch.Size([200, 2048]) torch.Size([2000, 32])\n",
      "14 torch.Size([133, 2048]) torch.Size([1330, 32])\n"
     ]
    }
   ],
   "source": [
    "for i, (img, txt) in enumerate(testing_generator):\n",
    "    print(i, torch.unique(img, dim=0).shape, txt[0].shape)"
   ]
  },
  {
   "cell_type": "code",
   "execution_count": null,
   "id": "120bfd2e-0a1b-44f1-a015-3f4421a549c9",
   "metadata": {},
   "outputs": [],
   "source": []
  }
 ],
 "metadata": {
  "kernelspec": {
   "display_name": "Python 3 (ipykernel)",
   "language": "python",
   "name": "python3"
  },
  "language_info": {
   "codemirror_mode": {
    "name": "ipython",
    "version": 3
   },
   "file_extension": ".py",
   "mimetype": "text/x-python",
   "name": "python",
   "nbconvert_exporter": "python",
   "pygments_lexer": "ipython3",
   "version": "3.8.10"
  }
 },
 "nbformat": 4,
 "nbformat_minor": 5
}
