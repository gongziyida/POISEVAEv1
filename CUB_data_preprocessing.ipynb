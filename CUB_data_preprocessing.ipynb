{
 "cells": [
  {
   "cell_type": "code",
   "execution_count": 1,
   "id": "e2153724-6f75-4a34-b2d8-1bfce7ee3a8f",
   "metadata": {},
   "outputs": [],
   "source": [
    "from CUBDatasets import CUBImageFt, CUBSentences\n",
    "import torch\n",
    "import numpy as np"
   ]
  },
  {
   "cell_type": "code",
   "execution_count": 2,
   "id": "e9539e70-b16e-46f6-9ba7-f9cff318b3a5",
   "metadata": {},
   "outputs": [],
   "source": [
    "# If the below raise LookupError about punkt, run this\n",
    "# import nltk\n",
    "# nltk.download('punkt')"
   ]
  },
  {
   "cell_type": "code",
   "execution_count": 3,
   "id": "934baba0-0b50-46e4-a50e-bcc979245325",
   "metadata": {},
   "outputs": [],
   "source": [
    "RAWDATA_PATH = 'CUB'"
   ]
  },
  {
   "cell_type": "code",
   "execution_count": 4,
   "id": "b33196dc-09e0-4052-bbf4-5963190d5423",
   "metadata": {},
   "outputs": [],
   "source": [
    "tx = lambda data: torch.Tensor(data)"
   ]
  },
  {
   "cell_type": "code",
   "execution_count": 5,
   "id": "6b7b617e-976e-4482-863b-4e598611f038",
   "metadata": {},
   "outputs": [],
   "source": [
    "device = 'cuda' if torch.cuda.is_available() else 'cpu'"
   ]
  },
  {
   "cell_type": "code",
   "execution_count": 6,
   "id": "e6d82866-bf1f-4722-a77f-5525285c9379",
   "metadata": {},
   "outputs": [],
   "source": [
    "img_train = CUBImageFt(RAWDATA_PATH, split='train', device=device)\n",
    "img_test = CUBImageFt(RAWDATA_PATH, split='test', device=device)"
   ]
  },
  {
   "cell_type": "code",
   "execution_count": 7,
   "id": "e212986a-cf38-42fe-9d05-91c01fc55295",
   "metadata": {},
   "outputs": [
    {
     "data": {
      "text/plain": [
       "(8855, 2933)"
      ]
     },
     "execution_count": 7,
     "metadata": {},
     "output_type": "execute_result"
    }
   ],
   "source": [
    "len(img_train), len(img_test)"
   ]
  },
  {
   "cell_type": "code",
   "execution_count": 8,
   "id": "46bcf2ee-4073-4df0-8c15-42519cfcb8d3",
   "metadata": {},
   "outputs": [],
   "source": [
    "maxSentLen = 32\n",
    "txt_train = CUBSentences(RAWDATA_PATH, split='train', transform=tx, max_sequence_length=maxSentLen)\n",
    "txt_test = CUBSentences(RAWDATA_PATH, split='test', transform=tx, max_sequence_length=maxSentLen)\n",
    "# Each entry of the dataset is a 2-tuple (padded sentence embedding, actual length)"
   ]
  },
  {
   "cell_type": "code",
   "execution_count": 9,
   "id": "396ff922-9ba3-421e-8678-c6c7c8a1a089",
   "metadata": {},
   "outputs": [
    {
     "data": {
      "text/plain": [
       "(88550, 29330)"
      ]
     },
     "execution_count": 9,
     "metadata": {},
     "output_type": "execute_result"
    }
   ],
   "source": [
    "# Ten sentences for each image\n",
    "len(txt_train), len(txt_test)"
   ]
  },
  {
   "cell_type": "markdown",
   "id": "806ef3ab-d77b-4b47-ba34-59e83dffefee",
   "metadata": {
    "tags": []
   },
   "source": [
    "## Test"
   ]
  },
  {
   "cell_type": "code",
   "execution_count": 10,
   "id": "2fd3d795-1118-490f-9591-713d9a07ad33",
   "metadata": {},
   "outputs": [
    {
     "data": {
      "text/plain": [
       "45"
      ]
     },
     "execution_count": 10,
     "metadata": {},
     "output_type": "execute_result"
    }
   ],
   "source": [
    "img_training_generator = torch.utils.data.DataLoader(img_train, batch_size=200, shuffle=True)\n",
    "len(img_training_generator)"
   ]
  },
  {
   "cell_type": "code",
   "execution_count": 11,
   "id": "08ea6215-fa46-4bb3-83cf-b90e944fc749",
   "metadata": {},
   "outputs": [],
   "source": [
    "# for i, img in enumerate(img_training_generator):\n",
    "#     print(i, img.shape)"
   ]
  },
  {
   "cell_type": "code",
   "execution_count": 12,
   "id": "3e2130a2-bc12-4455-a3be-c522525b7dee",
   "metadata": {},
   "outputs": [
    {
     "data": {
      "text/plain": [
       "15"
      ]
     },
     "execution_count": 12,
     "metadata": {},
     "output_type": "execute_result"
    }
   ],
   "source": [
    "img_testing_generator = torch.utils.data.DataLoader(img_test, batch_size=200, shuffle=True)\n",
    "len(img_testing_generator)"
   ]
  },
  {
   "cell_type": "code",
   "execution_count": 13,
   "id": "8df2e08a-0533-4795-a6fa-73418c0c4305",
   "metadata": {},
   "outputs": [],
   "source": [
    "# for i, img in enumerate(img_testing_generator):\n",
    "#     print(i, img.shape)"
   ]
  },
  {
   "cell_type": "code",
   "execution_count": 14,
   "id": "76fdbd79-0ac4-4953-9a2b-a3f9ac3e29eb",
   "metadata": {},
   "outputs": [
    {
     "data": {
      "text/plain": [
       "45"
      ]
     },
     "execution_count": 14,
     "metadata": {},
     "output_type": "execute_result"
    }
   ],
   "source": [
    "txt_training_generator = torch.utils.data.DataLoader(txt_train, batch_size=2000, shuffle=True)\n",
    "len(txt_training_generator)"
   ]
  },
  {
   "cell_type": "code",
   "execution_count": 15,
   "id": "fea1eff0-bc87-4b01-a247-b6218eb6d99a",
   "metadata": {},
   "outputs": [],
   "source": [
    "# for i, txt in enumerate(txt_training_generator):\n",
    "#     print(i, len(txt), txt[0].shape, txt[1].shape)"
   ]
  },
  {
   "cell_type": "code",
   "execution_count": 16,
   "id": "816f70ef-6acb-411c-8be7-b743d7863603",
   "metadata": {},
   "outputs": [
    {
     "data": {
      "text/plain": [
       "15"
      ]
     },
     "execution_count": 16,
     "metadata": {},
     "output_type": "execute_result"
    }
   ],
   "source": [
    "txt_testing_generator = torch.utils.data.DataLoader(txt_test, batch_size=2000, shuffle=True)\n",
    "len(txt_testing_generator)"
   ]
  },
  {
   "cell_type": "code",
   "execution_count": 17,
   "id": "83e1225a-6883-4432-ba65-9f79ffe270a1",
   "metadata": {},
   "outputs": [],
   "source": [
    "# for i, txt in enumerate(txt_testing_generator):\n",
    "#     print(i, len(txt), txt[0].shape, txt[1].shape)"
   ]
  },
  {
   "cell_type": "code",
   "execution_count": 18,
   "id": "cbb4d715-b348-49e2-96ac-94fba55d95af",
   "metadata": {},
   "outputs": [],
   "source": [
    "# EOS = 2\n",
    "# for i, l in enumerate(txt[1]):\n",
    "#     try:\n",
    "#         print(torch.where(txt[0][i] == EOS)[0][0] + 1 == l)\n",
    "#     except:\n",
    "#         print(txt[0][i])"
   ]
  },
  {
   "cell_type": "markdown",
   "id": "5807725d-7e67-47aa-ad3d-60145b2cf492",
   "metadata": {
    "tags": []
   },
   "source": [
    "## Joint Dataloader"
   ]
  },
  {
   "cell_type": "code",
   "execution_count": 19,
   "id": "02f08bc9-1d9c-477d-9638-b7698aaf0ff6",
   "metadata": {},
   "outputs": [],
   "source": [
    "class CUB(torch.utils.data.Dataset):\n",
    "    def __init__(self, img_data_dir, txt_data_dir, split, device, transform=None, **kwargs):\n",
    "        \"\"\"split: 'train' or 'test' \"\"\"\n",
    "        super().__init__()\n",
    "        self.CUBtxt = CUBSentences(txt_data_dir, split=split, transform=transform, **kwargs)\n",
    "        self.CUBimg = CUBImageFt(img_data_dir, split=split, device=device)\n",
    "        \n",
    "    def __len__(self):\n",
    "        return len(self.CUBtxt)\n",
    "    \n",
    "    def __getitem__(self, idx):\n",
    "        txt = self.CUBtxt.__getitem__(idx)\n",
    "        img = self.CUBimg.__getitem__(idx // 10)\n",
    "        return img, txt"
   ]
  },
  {
   "cell_type": "code",
   "execution_count": 20,
   "id": "06ed6c9f-4ca0-4e1a-87a5-3a4d05e538a1",
   "metadata": {},
   "outputs": [],
   "source": [
    "from joint_dataset import CUB"
   ]
  },
  {
   "cell_type": "code",
   "execution_count": 21,
   "id": "c0513a4f-e792-4606-a624-478562027aa4",
   "metadata": {},
   "outputs": [],
   "source": [
    "CUB_train = CUB(RAWDATA_PATH, RAWDATA_PATH, 'train', device, tx)"
   ]
  },
  {
   "cell_type": "code",
   "execution_count": 22,
   "id": "6e601a8c-e46f-4cf0-9985-f2431788ec5c",
   "metadata": {},
   "outputs": [
    {
     "data": {
      "text/plain": [
       "45"
      ]
     },
     "execution_count": 22,
     "metadata": {},
     "output_type": "execute_result"
    }
   ],
   "source": [
    "training_generator = torch.utils.data.DataLoader(CUB_train, batch_size=2000, shuffle=False)\n",
    "len(training_generator)"
   ]
  },
  {
   "cell_type": "code",
   "execution_count": null,
   "id": "63ef57eb-575f-4d5f-ac49-32fc9b23b74f",
   "metadata": {},
   "outputs": [],
   "source": [
    "for i, (img, txt) in enumerate(training_generator):\n",
    "    print(i, torch.unique(img, dim=0).shape, txt[0].shape)"
   ]
  },
  {
   "cell_type": "code",
   "execution_count": null,
   "id": "1a4519c2-eee6-4a74-bff7-55cd2376bdc7",
   "metadata": {},
   "outputs": [],
   "source": [
    "CUB_test = CUB(RAWDATA_PATH, RAWDATA_PATH, 'test', device, tx)"
   ]
  },
  {
   "cell_type": "code",
   "execution_count": null,
   "id": "f51f25c6-e37d-434a-a251-f119e9eb188c",
   "metadata": {},
   "outputs": [],
   "source": [
    "testing_generator = torch.utils.data.DataLoader(CUB_test, batch_size=2000, shuffle=False)\n",
    "len(testing_generator)"
   ]
  },
  {
   "cell_type": "code",
   "execution_count": null,
   "id": "3bd468f3-f544-4553-82d1-31679da48abe",
   "metadata": {},
   "outputs": [],
   "source": [
    "for i, (img, txt) in enumerate(testing_generator):\n",
    "    print(i, torch.unique(img, dim=0).shape, txt[0].shape)"
   ]
  },
  {
   "cell_type": "markdown",
   "id": "3ad62d0b-55f6-4e07-b67b-fcdbfa531d3f",
   "metadata": {},
   "source": [
    "## FastText Embedding for Analysis"
   ]
  },
  {
   "cell_type": "code",
   "execution_count": null,
   "id": "b063a32d-715e-4d2d-819e-79e33646f622",
   "metadata": {},
   "outputs": [],
   "source": [
    "import json\n",
    "import os\n",
    "import pickle"
   ]
  },
  {
   "cell_type": "code",
   "execution_count": null,
   "id": "e07e4985-a2e3-4fca-94e3-297a5bd9544c",
   "metadata": {},
   "outputs": [],
   "source": [
    "# The following code is adapted from https://github.com/iffsid/mmvae, the repository for the work\n",
    "# Y. Shi, N. Siddharth, B. Paige and PHS. Torr.\n",
    "# Variational Mixture-of-Experts Autoencoders for Multi-Modal Deep Generative Models.\n",
    "# In Proceedings of the 33rd International Conference on Neural Information Processing Systems,\n",
    "# Page 15718–15729, 2019"
   ]
  },
  {
   "cell_type": "code",
   "execution_count": null,
   "id": "0169102d-89ab-491e-98a3-63d871d868eb",
   "metadata": {},
   "outputs": [],
   "source": [
    "from collections import Counter, OrderedDict\n",
    "class OrderedCounter(Counter, OrderedDict):\n",
    "    \"\"\"Counter that remembers the order elements are first encountered.\"\"\"\n",
    "\n",
    "    def __repr__(self):\n",
    "        return '%s(%r)' % (self.__class__.__name__, OrderedDict(self))\n",
    "\n",
    "    def __reduce__(self):\n",
    "        return self.__class__, (OrderedDict(self),)"
   ]
  },
  {
   "cell_type": "code",
   "execution_count": null,
   "id": "28ca461d-ee6c-4dce-98e6-bea1b9f78ca7",
   "metadata": {},
   "outputs": [],
   "source": [
    "from gensim.models import FastText\n",
    "from nltk.tokenize import sent_tokenize, word_tokenize\n",
    "\n",
    "with open(os.path.join(RAWDATA_PATH, 'cub/text_trainvalclasses.txt'), 'r') as file:\n",
    "    text = file.read()\n",
    "    sentences = sent_tokenize(text)\n",
    "\n",
    "occ_register = OrderedCounter() # For counting the occurrance and calc. weights\n",
    "texts = [] # For embedding\n",
    "for i, line in enumerate(sentences):\n",
    "    words = word_tokenize(line)\n",
    "    texts.append(words)\n",
    "    occ_register.update(words)"
   ]
  },
  {
   "cell_type": "code",
   "execution_count": null,
   "id": "589715fa-d6b8-46ba-842a-5cbe2ebdfdd9",
   "metadata": {},
   "outputs": [],
   "source": [
    "# FastText embedding\n",
    "model = FastText(vector_size=300, window=3, min_count=3)\n",
    "model.build_vocab(corpus_iterable=texts)\n",
    "model.train(corpus_iterable=texts, total_examples=len(texts), epochs=10)"
   ]
  },
  {
   "cell_type": "code",
   "execution_count": null,
   "id": "792f77cb-4aba-426f-a836-b80854cc30a5",
   "metadata": {},
   "outputs": [],
   "source": [
    "with open(os.path.join(RAWDATA_PATH, 'cub/oc:3_msl:32/cub.vocab'), 'rb') as file:\n",
    "    vocab = json.load(file)"
   ]
  },
  {
   "cell_type": "code",
   "execution_count": null,
   "id": "321fe86e-197d-4c62-9073-2116fd1e97ff",
   "metadata": {},
   "outputs": [],
   "source": [
    "# Output embedding\n",
    "i2w = vocab['i2w']\n",
    "base = np.ones((300,), dtype=np.float32)\n",
    "emb = [base * (i - 1) for i in range(3)]\n",
    "for word in list(i2w.values())[3:]:\n",
    "    emb.append(model.wv[word])\n",
    "\n",
    "emb = np.array(emb)\n",
    "with open(os.path.join(RAWDATA_PATH, 'cub/oc:3_msl:32/cub.emb'), 'wb') as file:\n",
    "    pickle.dump(emb, file)"
   ]
  },
  {
   "cell_type": "code",
   "execution_count": null,
   "id": "b24a833e-2b23-444f-8da7-1230b7a75b7b",
   "metadata": {},
   "outputs": [],
   "source": [
    "# Output weights\n",
    "a = 1e-3\n",
    "w2i = vocab['w2i']\n",
    "weights = np.zeros(len(w2i))\n",
    "total_occ = sum(list(occ_register.values()))\n",
    "exc_occ = 0\n",
    "for w, occ in occ_register.items():\n",
    "    if w in w2i.keys():\n",
    "        weights[w2i[w]] = a / (a + occ / total_occ)\n",
    "    else:\n",
    "        exc_occ += occ\n",
    "weights[0] = a / (a + exc_occ / total_occ)\n",
    "\n",
    "with open(os.path.join(RAWDATA_PATH, 'cub/oc:3_msl:32/cub.weights'), 'wb') as file:\n",
    "    pickle.dump(weights, file)"
   ]
  },
  {
   "cell_type": "code",
   "execution_count": null,
   "id": "6f6c655c-26b3-4649-980f-3490b54bd3cf",
   "metadata": {},
   "outputs": [],
   "source": [
    "with open(os.path.join(RAWDATA_PATH, 'cub/oc:3_msl:32/cub.emb'), 'rb') as file:\n",
    "    emb = pickle.load(file)\n",
    "with open(os.path.join(RAWDATA_PATH, 'cub/oc:3_msl:32/cub.weights'), 'rb') as file:\n",
    "    emb = pickle.load(file)"
   ]
  },
  {
   "cell_type": "code",
   "execution_count": null,
   "id": "c97c81c1-97a2-439c-a2b2-e881c4b80d3f",
   "metadata": {},
   "outputs": [],
   "source": [
    "train_loader = torch.utils.data.DataLoader(txt_train, batch_size=2000)"
   ]
  },
  {
   "cell_type": "code",
   "execution_count": null,
   "id": "1549db4f-8566-451f-8300-45087af177e5",
   "metadata": {},
   "outputs": [],
   "source": [
    "for data in train_loader:\n",
    "    print(data[0][0])\n",
    "    break"
   ]
  },
  {
   "cell_type": "code",
   "execution_count": null,
   "id": "828c74be-63a2-40fa-aff2-a9b8a2002e8c",
   "metadata": {},
   "outputs": [],
   "source": []
  }
 ],
 "metadata": {
  "kernelspec": {
   "display_name": "Python 3 (ipykernel)",
   "language": "python",
   "name": "python3"
  },
  "language_info": {
   "codemirror_mode": {
    "name": "ipython",
    "version": 3
   },
   "file_extension": ".py",
   "mimetype": "text/x-python",
   "name": "python",
   "nbconvert_exporter": "python",
   "pygments_lexer": "ipython3",
   "version": "3.8.10"
  }
 },
 "nbformat": 4,
 "nbformat_minor": 5
}
