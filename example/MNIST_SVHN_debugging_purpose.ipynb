{
 "cells": [
  {
   "cell_type": "code",
   "execution_count": null,
   "id": "155ea9f1-702b-434e-8a3f-4d10aa0869d4",
   "metadata": {},
   "outputs": [],
   "source": [
    "import glob \n",
    "import os, copy, time\n",
    "import random\n",
    "import numpy as np\n",
    "import torch\n",
    "\n",
    "torch.manual_seed(2)\n",
    "random.seed(2)\n",
    "np.random.seed(2)\n",
    "\n",
    "import torch.nn as nn\n",
    "import torch.optim as optim\n",
    "from torch.distributions import Normal, Laplace\n",
    "from tqdm import tqdm\n",
    "import matplotlib.pyplot as plt\n",
    "from datetime import datetime\n",
    "\n",
    "import poisevae\n",
    "from poisevae.datasets import MNIST_SVHN\n",
    "from poisevae.networks.MNISTSVHNNetworks import EncMNIST, DecMNIST, EncSVHN, DecSVHN\n",
    "\n",
    "\n",
    "\n",
    "plt.rcParams['pdf.fonttype'] = 42\n",
    "plt.rcParams['ps.fonttype'] = 42\n",
    "plt.rcParams['font.family'] = 'Times New Roman'\n",
    "plt.rcParams['font.size'] = 20\n",
    "plt.rcParams['font.weight'] = 'normal'\n",
    "plt.rcParams['mathtext.fontset'] = 'cm'\n",
    "plt.rcParams['text.usetex'] = False"
   ]
  },
  {
   "cell_type": "code",
   "execution_count": null,
   "id": "200baa32-4b85-4438-b679-6cfd7b163970",
   "metadata": {},
   "outputs": [],
   "source": [
    "HOME_PATH = os.path.expanduser('~')"
   ]
  },
  {
   "cell_type": "code",
   "execution_count": null,
   "id": "cba9b1ec-5083-4a19-affa-e0720b60d3fc",
   "metadata": {},
   "outputs": [],
   "source": [
    "device = 'cuda' if torch.cuda.is_available() else 'cpu'\n",
    "device"
   ]
  },
  {
   "cell_type": "code",
   "execution_count": null,
   "id": "dc4383bd-e443-49a6-afe9-1ffcc2a8f016",
   "metadata": {},
   "outputs": [],
   "source": [
    "MNIST_PATH = os.path.join(HOME_PATH, 'Datasets/MNIST/%s.pt')\n",
    "SVHN_PATH = os.path.join(HOME_PATH, 'Datasets/SVHN/%s_32x32.mat')\n",
    "\n",
    "joint_dataset_train = MNIST_SVHN(mnist_pt_path=MNIST_PATH % 'train', svhn_mat_path=SVHN_PATH % 'train')\n",
    "joint_dataset_test = MNIST_SVHN(mnist_pt_path=MNIST_PATH % 'test', svhn_mat_path=SVHN_PATH % 'test')"
   ]
  },
  {
   "cell_type": "code",
   "execution_count": null,
   "id": "6e601a8c-e46f-4cf0-9985-f2431788ec5c",
   "metadata": {},
   "outputs": [],
   "source": [
    "batch_size = 64\n",
    "train_loader = torch.utils.data.DataLoader(joint_dataset_train, batch_size=batch_size, shuffle=False, drop_last=True)\n",
    "test_loader = torch.utils.data.DataLoader(joint_dataset_test, batch_size=batch_size, shuffle=False, drop_last=True)\n",
    "len(train_loader), len(test_loader)"
   ]
  },
  {
   "cell_type": "code",
   "execution_count": null,
   "id": "a0d93b8b-8a99-4fca-ad0f-8d42912c3044",
   "metadata": {},
   "outputs": [],
   "source": [
    "lat1, lat2 = 32, 32\n",
    "enc_mnist = EncMNIST(lat1).to(device)\n",
    "dec_mnist = DecMNIST(lat1).to(device)\n",
    "enc_svhn = EncSVHN(lat2).to(device)\n",
    "dec_svhn = DecSVHN(lat2).to(device)\n",
    "\n",
    "# Options: 'autograd' and 'gradient'\n",
    "vae = poisevae.POISEVAE_Gibbs('autograd',\n",
    "                              [enc_mnist, enc_svhn], [dec_mnist, dec_svhn], likelihoods=[Laplace, Laplace],\n",
    "                              latent_dims=[lat1, (lat2, 1, 1)], enc_config='mu/var', KL_calc='derivative', \n",
    "                              batch_size=batch_size\n",
    "                             ).to(device)"
   ]
  },
  {
   "cell_type": "code",
   "execution_count": null,
   "id": "8488aea8-eb4f-411a-a5dd-ed9d3e0526d2",
   "metadata": {},
   "outputs": [],
   "source": [
    "enc_mnist_init_state_dict = copy.deepcopy(enc_mnist.state_dict())\n",
    "dec_mnist_init_state_dict = copy.deepcopy(dec_mnist.state_dict())\n",
    "enc_svhn_init_state_dict = copy.deepcopy(enc_svhn.state_dict())\n",
    "dec_svhn_init_state_dict = copy.deepcopy(dec_svhn.state_dict())"
   ]
  },
  {
   "cell_type": "code",
   "execution_count": null,
   "id": "292dc208-4258-4108-ae4d-80d954ab45dd",
   "metadata": {},
   "outputs": [],
   "source": [
    "optimizer = optim.Adam(vae.parameters(), lr=1e-3)"
   ]
  },
  {
   "cell_type": "code",
   "execution_count": null,
   "id": "9c8f75ff-8b35-4e7a-b25d-324a43c1040f",
   "metadata": {},
   "outputs": [],
   "source": [
    "epoch = 0"
   ]
  },
  {
   "cell_type": "code",
   "execution_count": null,
   "id": "c31ffee9-0b2c-4644-b4f2-abb009517f4c",
   "metadata": {},
   "outputs": [],
   "source": [
    "# vae, _, epoch = poisevae.utils.load_checkpoint(vae, load_path='training_15.pt')\n",
    "# epoch"
   ]
  },
  {
   "cell_type": "code",
   "execution_count": null,
   "id": "c687039a-ac83-4b89-9158-8812c0a2db6e",
   "metadata": {
    "tags": []
   },
   "outputs": [],
   "source": [
    "epochs = 30 + epoch\n",
    "fname = 'out%s.txt' % time.strftime('%m%d%H%M%S')\n",
    "for epoch in tqdm(range(epoch, epochs)):\n",
    "    with poisevae._debug.Capturing(fname, disable_print=False) as output:\n",
    "        poisevae.utils.train(vae, train_loader, optimizer, epoch, None)\n",
    "        poisevae.utils.test(vae, test_loader, epoch, None)\n",
    "    if (epoch+1) % 10 == 0:\n",
    "        poisevae.utils.save_checkpoint(vae, optimizer, 'training_%d.pt' % (epoch+1), epoch+1)\n",
    "        "
   ]
  },
  {
   "cell_type": "code",
   "execution_count": null,
   "id": "e0ef2cb5-9ad9-4cc4-9b6e-f5824a8440b3",
   "metadata": {},
   "outputs": [],
   "source": [
    "poisevae.utils.save_checkpoint(vae, optimizer, 'training_%d.pt' % (epoch+1), epoch+1)"
   ]
  },
  {
   "cell_type": "code",
   "execution_count": null,
   "id": "ffb1a76f-6244-4298-a67a-ed2d000312be",
   "metadata": {},
   "outputs": [],
   "source": [
    "enc_mnist_end_state_dict = enc_mnist.state_dict()\n",
    "dec_mnist_end_state_dict = dec_mnist.state_dict()\n",
    "enc_svhn_end_state_dict = enc_svhn.state_dict()\n",
    "dec_svhn_end_state_dict = dec_svhn.state_dict()"
   ]
  },
  {
   "cell_type": "code",
   "execution_count": null,
   "id": "e5c97f7a-9324-42a5-a963-25f55ca7d51c",
   "metadata": {},
   "outputs": [],
   "source": [
    "def state_dict_compare(init, end):\n",
    "    for k, v in end.items():\n",
    "        print((v == init[k]).all().item(), end=' ')\n",
    "    print()\n",
    "\n",
    "print('enc_mnist'); state_dict_compare(enc_mnist_init_state_dict, enc_mnist_end_state_dict)\n",
    "print('dec_mnist'); state_dict_compare(dec_mnist_init_state_dict, dec_mnist_end_state_dict)\n",
    "print('enc_svhn'); state_dict_compare(enc_svhn_init_state_dict, enc_svhn_end_state_dict)\n",
    "print('dec_svhn'); state_dict_compare(dec_svhn_init_state_dict, dec_svhn_end_state_dict)"
   ]
  },
  {
   "cell_type": "markdown",
   "id": "77386a60-6e20-4740-a57c-f55f0037b0eb",
   "metadata": {
    "tags": []
   },
   "source": [
    "## Results"
   ]
  },
  {
   "cell_type": "code",
   "execution_count": null,
   "id": "15d77957-0fff-454b-a47e-f663b14ba8cd",
   "metadata": {},
   "outputs": [],
   "source": [
    "vae, _, epoch = poisevae.utils.load_checkpoint(vae, load_path='training_30.pt')\n",
    "# epoch"
   ]
  },
  {
   "cell_type": "markdown",
   "id": "242bdb94-f210-4970-a27c-e3b883ee5ca2",
   "metadata": {
    "tags": []
   },
   "source": [
    "### Reconstruction"
   ]
  },
  {
   "cell_type": "code",
   "execution_count": null,
   "id": "26711b10-747c-4df5-a4a5-9ba9ec35039c",
   "metadata": {},
   "outputs": [],
   "source": [
    "with torch.no_grad():\n",
    "    for i, data in enumerate(test_loader):\n",
    "        with poisevae._debug.Capturing() as output:\n",
    "            results = vae([data[0].to(device, dtype=torch.float32), data[1].to(device, dtype=torch.float32)])#, \n",
    "                          # n_gibbs_iter=30)\n",
    "        break"
   ]
  },
  {
   "cell_type": "code",
   "execution_count": null,
   "id": "515f0943-8582-492f-85bb-b7d9058d348c",
   "metadata": {},
   "outputs": [],
   "source": [
    "x_rec = results['x_rec']\n",
    "if isinstance(x_rec[0], torch.distributions.Distribution):\n",
    "    x_rec = [x_rec[0].loc, x_rec[1].loc]\n",
    "    # idx = torch.where(results['weights'] == results['weights'].max(dim=1).values[:, None])\n",
    "    # x_rec = [x_rec[0].loc[idx], x_rec[1].loc[idx]] # (batch, IW samples, ...)"
   ]
  },
  {
   "cell_type": "code",
   "execution_count": null,
   "id": "588254ab-835f-4164-a6b1-2850d95a3c49",
   "metadata": {},
   "outputs": [],
   "source": [
    "ncols = min(len(x_rec[0]), 20)\n",
    "fig, ax = plt.subplots(nrows=2, ncols=ncols, figsize=(15, 1.5))\n",
    "for i, aux in enumerate(zip(data[0], x_rec[0])):\n",
    "    if i >= ncols:\n",
    "        break\n",
    "    for j, im in enumerate(aux):\n",
    "        ax[j, i].imshow(im.cpu().numpy().reshape(28, 28), cmap='gray')\n",
    "        ax[j, i].set_xticks([])\n",
    "        ax[j, i].set_yticks([])\n",
    "ax[1, 0].set_ylabel('Rec', fontsize=24)\n",
    "fig.tight_layout(pad=0)\n",
    "# fig.savefig(PATH + 'MNISTRec.pdf', dpi=300)"
   ]
  },
  {
   "cell_type": "code",
   "execution_count": null,
   "id": "42b1b742-9a70-4d16-a07f-20ad3dae2e91",
   "metadata": {},
   "outputs": [],
   "source": [
    "ncols = min(len(x_rec[1]), 20)\n",
    "fig, ax = plt.subplots(nrows=2, ncols=ncols, figsize=(15, 1.5))\n",
    "for i, aux in enumerate(zip(data[1], x_rec[1])):\n",
    "    if i >= ncols:\n",
    "        break\n",
    "    for j, im in enumerate(aux):\n",
    "        ax[j, i].imshow(im.cpu().numpy().transpose(1, 2, 0), cmap='gray')\n",
    "        ax[j, i].set_xticks([])\n",
    "        ax[j, i].set_yticks([])\n",
    "ax[1, 0].set_ylabel('Rec', fontsize=24)\n",
    "fig.tight_layout(pad=0)\n",
    "# fig.savefig(PATH + 'SVHNRec.pdf', dpi=300)"
   ]
  },
  {
   "cell_type": "markdown",
   "id": "22d49e76-c29d-4777-b339-254dd883783f",
   "metadata": {},
   "source": [
    "### Cross Generation"
   ]
  },
  {
   "cell_type": "markdown",
   "id": "a4fc0aa5-1274-462d-b943-7e10d550b38d",
   "metadata": {
    "tags": []
   },
   "source": [
    "#### MNIST -> SVHN"
   ]
  },
  {
   "cell_type": "code",
   "execution_count": null,
   "id": "1968352b-584c-4d89-bc16-bbd4c65e1152",
   "metadata": {},
   "outputs": [],
   "source": [
    "with torch.no_grad():\n",
    "    for i, data in enumerate(test_loader):\n",
    "        with poisevae._debug.Capturing() as output:\n",
    "            results = vae([data[0].to(device, dtype=torch.float32), None], n_gibbs_iter=100)\n",
    "        break"
   ]
  },
  {
   "cell_type": "code",
   "execution_count": null,
   "id": "1c649bc6-9374-450b-a5f0-25036f1ead7e",
   "metadata": {},
   "outputs": [],
   "source": [
    "x_rec = results['x_rec']\n",
    "if isinstance(x_rec[0], torch.distributions.Distribution):\n",
    "    x_rec = [x_rec[0].loc, x_rec[1].loc]\n",
    "    \n",
    "x_rec[1].shape, data[1].shape"
   ]
  },
  {
   "cell_type": "code",
   "execution_count": null,
   "id": "8b052b10-2bee-49a2-b4ba-4c315432d77b",
   "metadata": {},
   "outputs": [],
   "source": [
    "ncols = min(len(x_rec[0]), 20)\n",
    "fig, ax = plt.subplots(nrows=2, ncols=ncols, figsize=(15, 1.5))\n",
    "for i, aux in enumerate(zip(data[0], x_rec[0])):\n",
    "    if i >= ncols:\n",
    "        break\n",
    "    for j, im in enumerate(aux):\n",
    "        ax[j, i].imshow(im.cpu().numpy().reshape(28, 28), cmap='gray')\n",
    "        ax[j, i].set_xticks([])\n",
    "        ax[j, i].set_yticks([])\n",
    "ax[1, 0].set_ylabel('Rec', fontsize=24)\n",
    "fig.tight_layout(pad=0)\n",
    "# fig.savefig(PATH + 'MNISTRec.pdf', dpi=300)"
   ]
  },
  {
   "cell_type": "code",
   "execution_count": null,
   "id": "eca307c3-1fb3-4d65-8cbf-4209cdb62632",
   "metadata": {
    "tags": []
   },
   "outputs": [],
   "source": [
    "ncols = min(len(x_rec[1]), 20)\n",
    "fig, ax = plt.subplots(nrows=2, ncols=ncols, figsize=(15, 1.5))\n",
    "for i, aux in enumerate(zip(data[1], x_rec[1])):\n",
    "    if i >= ncols:\n",
    "        break\n",
    "    for j, im in enumerate(aux):\n",
    "        ax[j, i].imshow(im.cpu().numpy().transpose(1, 2, 0), cmap='gray')\n",
    "        ax[j, i].set_xticks([])\n",
    "        ax[j, i].set_yticks([])\n",
    "ax[1, 0].set_ylabel('Rec', fontsize=24)\n",
    "fig.tight_layout(pad=0)\n",
    "# fig.savefig(PATH + 'SVHNRec.pdf', dpi=300)"
   ]
  },
  {
   "cell_type": "markdown",
   "id": "7e485477-7a42-4ee1-af2c-c077e1ecfd69",
   "metadata": {
    "tags": []
   },
   "source": [
    "#### MNIST <- SVHN"
   ]
  },
  {
   "cell_type": "code",
   "execution_count": null,
   "id": "c5499f24-2d76-4feb-bfcf-310d7a5cea5f",
   "metadata": {},
   "outputs": [],
   "source": [
    "with torch.no_grad():\n",
    "    for i, data in enumerate(test_loader):\n",
    "        with poisevae._debug.Capturing() as output:\n",
    "            results = vae([None, data[1].to(device, dtype=torch.float32)], n_gibbs_iter=100)\n",
    "        break"
   ]
  },
  {
   "cell_type": "code",
   "execution_count": null,
   "id": "57aa9f2c-3c90-4d3f-95a2-48cd1b2fdf1a",
   "metadata": {},
   "outputs": [],
   "source": [
    "x_rec = results['x_rec']\n",
    "if isinstance(x_rec[0], torch.distributions.Distribution):\n",
    "    x_rec = [x_rec[0].loc, x_rec[1].loc]\n",
    "    \n",
    "x_rec[1].shape, data[1].shape"
   ]
  },
  {
   "cell_type": "code",
   "execution_count": null,
   "id": "2c9737d5-fab3-42c1-97c1-6143e2963efc",
   "metadata": {},
   "outputs": [],
   "source": [
    "ncols = min(len(x_rec[0]), 20)\n",
    "fig, ax = plt.subplots(nrows=2, ncols=ncols, figsize=(15, 1.5))\n",
    "for i, aux in enumerate(zip(data[0], x_rec[0])):\n",
    "    if i >= ncols:\n",
    "        break\n",
    "    for j, im in enumerate(aux):\n",
    "        ax[j, i].imshow(im.cpu().numpy().reshape(28, 28), cmap='gray')\n",
    "        ax[j, i].set_xticks([])\n",
    "        ax[j, i].set_yticks([])\n",
    "ax[1, 0].set_ylabel('Rec', fontsize=24)\n",
    "fig.tight_layout(pad=0)\n",
    "# fig.savefig(PATH + 'MNISTRec.pdf', dpi=300)"
   ]
  },
  {
   "cell_type": "code",
   "execution_count": null,
   "id": "d65db27c-116d-4a2e-b2cf-6bf0c942f6b5",
   "metadata": {
    "tags": []
   },
   "outputs": [],
   "source": [
    "ncols = min(len(x_rec[1]), 20)\n",
    "fig, ax = plt.subplots(nrows=2, ncols=ncols, figsize=(15, 1.5))\n",
    "for i, aux in enumerate(zip(data[1], x_rec[1])):\n",
    "    if i >= ncols:\n",
    "        break\n",
    "    for j, im in enumerate(aux):\n",
    "        ax[j, i].imshow(im.cpu().numpy().transpose(1, 2, 0), cmap='gray')\n",
    "        ax[j, i].set_xticks([])\n",
    "        ax[j, i].set_yticks([])\n",
    "ax[1, 0].set_ylabel('Rec', fontsize=24)\n",
    "fig.tight_layout(pad=0)\n",
    "# fig.savefig(PATH + 'SVHNRec.pdf', dpi=300)"
   ]
  },
  {
   "cell_type": "markdown",
   "id": "4a406032-052b-4945-ab55-75b662455322",
   "metadata": {
    "tags": []
   },
   "source": [
    "### Joint Generation"
   ]
  },
  {
   "cell_type": "code",
   "execution_count": null,
   "id": "dd59297f-8146-4438-b675-078b6c240a3b",
   "metadata": {},
   "outputs": [],
   "source": [
    "with torch.no_grad():\n",
    "    for i, data in enumerate(test_loader):\n",
    "        with poisevae._debug.Capturing() as output:\n",
    "            results = vae([None, None], n_gibbs_iter=100)\n",
    "        break"
   ]
  },
  {
   "cell_type": "code",
   "execution_count": null,
   "id": "28d35665-6a93-4030-9063-61af789f8ec5",
   "metadata": {},
   "outputs": [],
   "source": [
    "x_rec = results['x_rec']\n",
    "if isinstance(x_rec[0], torch.distributions.Distribution):\n",
    "    x_rec = [x_rec[0].loc, x_rec[1].loc]\n",
    "    \n",
    "x_rec[1].shape, data[1].shape"
   ]
  },
  {
   "cell_type": "code",
   "execution_count": null,
   "id": "9f62464a-642f-4ef6-88cf-f9333906bff0",
   "metadata": {},
   "outputs": [],
   "source": [
    "ncols = min(len(x_rec[0]), 20)\n",
    "fig, ax = plt.subplots(nrows=1, ncols=ncols, figsize=(15, 0.75))\n",
    "for i, im in enumerate(x_rec[0]):\n",
    "    if i >= ncols:\n",
    "        break\n",
    "    ax[i].imshow(im.cpu().numpy().reshape(28, 28), cmap='gray')\n",
    "    # ax[i].set_xticks([])\n",
    "    # ax[i].set_yticks([])\n",
    "    ax[i].set_axis_off()\n",
    "# ax[0].set_ylabel('Rec', fontsize=24)\n",
    "fig.tight_layout(pad=0)\n",
    "# fig.savefig(PATH + 'MNISTRec.pdf', dpi=300)"
   ]
  },
  {
   "cell_type": "code",
   "execution_count": null,
   "id": "df1baa18-e80f-469b-b424-2dc7c39489eb",
   "metadata": {
    "tags": []
   },
   "outputs": [],
   "source": [
    "ncols = min(len(x_rec[1]), 20)\n",
    "fig, ax = plt.subplots(nrows=1, ncols=ncols, figsize=(15, 0.75))\n",
    "for i, im in enumerate(x_rec[1]):\n",
    "    if i >= ncols:\n",
    "        break\n",
    "    ax[i].imshow(im.cpu().numpy().transpose(1, 2, 0), cmap='gray')\n",
    "    # ax[i].set_xticks([])\n",
    "    # ax[i].set_yticks([])\n",
    "    ax[i].set_axis_off()\n",
    "# ax[0].set_ylabel('Rec', fontsize=24)\n",
    "fig.tight_layout(pad=0)\n",
    "# fig.savefig(PATH + 'MNISTRec.pdf', dpi=300)"
   ]
  },
  {
   "cell_type": "markdown",
   "id": "42efed6d-deb5-4e1d-a84e-ac87023ed046",
   "metadata": {
    "jp-MarkdownHeadingCollapsed": true,
    "tags": []
   },
   "source": [
    "## Latent Space Analysis"
   ]
  },
  {
   "cell_type": "code",
   "execution_count": null,
   "id": "2af48d62-f276-4ef4-8e8f-168e6b6d1389",
   "metadata": {},
   "outputs": [],
   "source": [
    "batch_size = 3000\n",
    "train_loader = torch.utils.data.DataLoader(joint_dataset_train, batch_size=batch_size, shuffle=True, drop_last=True)\n",
    "test_loader = torch.utils.data.DataLoader(joint_dataset_test, batch_size=batch_size, shuffle=True, drop_last=True)\n",
    "len(train_loader), len(test_loader)"
   ]
  },
  {
   "cell_type": "code",
   "execution_count": null,
   "id": "6733b81c-ada1-44eb-a897-0a7b4ff2c002",
   "metadata": {},
   "outputs": [],
   "source": [
    "with torch.no_grad():\n",
    "    for i, data in enumerate(test_loader):\n",
    "        label = data[-1].detach().cpu().numpy()\n",
    "        data = [data[0].to(device, dtype=torch.float32), data[1].to(device, dtype=torch.float32)]\n",
    "        results = vae([data[0], data[1]], n_gibbs_iter=50)\n",
    "\n",
    "        reducer = umap.UMAP(min_dist=0.01, n_neighbors=30)\n",
    "        embedding = reducer.fit_transform(results['z'][0].detach().cpu().numpy())\n",
    "        break\n",
    "    for k in range(0, 10):\n",
    "        plt.scatter(*embedding[label==k].T, c='C%d' % k, s=2)"
   ]
  },
  {
   "cell_type": "code",
   "execution_count": null,
   "id": "7fc20eef-125a-451a-9c13-23190a1fee0c",
   "metadata": {},
   "outputs": [],
   "source": [
    "import pandas as pd\n",
    "import seaborn as sns"
   ]
  },
  {
   "cell_type": "code",
   "execution_count": null,
   "id": "abd05f64-8990-4b72-8153-22ab5bef84b8",
   "metadata": {},
   "outputs": [],
   "source": [
    "path = 'runs/MNIST_SVHN/2201240015/'\n",
    "vae, _, epoch = poisevae.utils.load_checkpoint(vae, load_path=os.path.join(path, 'training_80.pt'))\n",
    "epoch"
   ]
  },
  {
   "cell_type": "code",
   "execution_count": null,
   "id": "d49b5266-a2c0-4575-ba9b-ded415cdd7e9",
   "metadata": {},
   "outputs": [],
   "source": [
    "umap_projs = {'condition': [], 'num Gibbs samples': [], 'embeddings': [], 'labels': []}\n",
    "\n",
    "num_gibbs_s = [5, 20, 100]\n",
    "with torch.no_grad():\n",
    "    for i, data in enumerate(test_loader):\n",
    "        label = data[-1].detach().cpu().numpy()\n",
    "        data = [data[0].to(device, dtype=torch.float32), data[1].to(device, dtype=torch.float32)]\n",
    "        \n",
    "        for i, num_gibbs in enumerate(num_gibbs_s):\n",
    "            for j, (cond, data_) in enumerate(zip(('Rec', 'Joint', 'M2S', 'S2M'), \n",
    "                                                  (data, [None, None], [data[0], None], [None, data[1]]))):\n",
    "                results = vae(data_, n_gibbs_iter=num_gibbs)\n",
    "                \n",
    "                reducer = umap.UMAP(min_dist=0.01, n_neighbors=50)\n",
    "                embedding = reducer.fit_transform(results['z'][0].detach().cpu().numpy())\n",
    "                \n",
    "                umap_projs['condition'].append(cond)\n",
    "                umap_projs['num Gibbs samples'].append(num_gibbs)\n",
    "                umap_projs['embeddings'].append(embedding)\n",
    "                umap_projs['labels'].append(label)\n",
    "        break"
   ]
  },
  {
   "cell_type": "code",
   "execution_count": null,
   "id": "528d6f08-ae8f-4b9b-9503-cbeee83c9b1e",
   "metadata": {},
   "outputs": [],
   "source": [
    "umap_projs_df = pd.DataFrame(umap_projs)"
   ]
  },
  {
   "cell_type": "code",
   "execution_count": null,
   "id": "0c9d6b0a-8690-40f1-a19f-5c5caa52f72a",
   "metadata": {},
   "outputs": [],
   "source": [
    "def plot(embedding, label, color=None, *args):\n",
    "    embedding = embedding.iloc[0]\n",
    "    label = label.iloc[0]\n",
    "    for k in range(0, 10):\n",
    "        plt.scatter(*embedding[label==k].T, c='C%d' % k, s=1)\n",
    "\n",
    "g = sns.FacetGrid(umap_projs_df, col='condition', row='num Gibbs samples', sharex=False, sharey=False, margin_titles=True, height=3.5)\n",
    "g.map(plot, 'embeddings', 'labels')"
   ]
  },
  {
   "cell_type": "code",
   "execution_count": null,
   "id": "44d6d0b9-72cc-4d9d-9346-e1b9972c0803",
   "metadata": {},
   "outputs": [],
   "source": [
    "path = 'runs/MNIST_SVHN/2201240015/'\n",
    "vae, _, epoch = poisevae.utils.load_checkpoint(vae, load_path=os.path.join(path, 'training_30.pt'))\n",
    "epoch"
   ]
  },
  {
   "cell_type": "code",
   "execution_count": null,
   "id": "0419e046-057c-4621-b956-bef5cde45d9f",
   "metadata": {
    "tags": []
   },
   "outputs": [],
   "source": [
    "epochs = (40, 60, 80, 100)\n",
    "fig, ax = plt.subplots(ncols=2, nrows=2, figsize=(8, 8))\n",
    "ax = ax.flatten()\n",
    "for j, t in enumerate(epochs):\n",
    "    vae, _, _ = poisevae.utils.load_checkpoint(vae, load_path=os.path.join(PATH, 'training_%d.pt'%t))\n",
    "    G = vae.get_G().detach().cpu().numpy()#.clip(min=-100, max=100)\n",
    "    im = ax[j].imshow(G)\n",
    "    fig.colorbar(im, ax=ax[j])\n",
    "    ax[j].set_axis_off()\n",
    "    ax[j].set_title('epoch = %d' % t)\n",
    "fig.tight_layout(pad=0)"
   ]
  },
  {
   "cell_type": "code",
   "execution_count": null,
   "id": "6306bb27-845f-4286-ab00-025c097ede6b",
   "metadata": {},
   "outputs": [],
   "source": [
    "epochs = (40, 60, 80, 100)\n",
    "fig, ax = plt.subplots(ncols=len(epochs), nrows=4, figsize=(12, 8), sharex='col')\n",
    "\n",
    "for j, t in enumerate(epochs):\n",
    "    vae, _, _ = poisevae.utils.load_checkpoint(vae, load_path=os.path.join(PATH, 'training_%d.pt'%t))\n",
    "    with torch.no_grad():\n",
    "        for _, data in enumerate(test_loader):\n",
    "            results = vae([data[0].to(device, dtype=torch.float32), data[1].to(device, dtype=torch.float32)])\n",
    "            break\n",
    "    mu, var = results['param1'], results['param2']\n",
    "    for i in (0, 1):\n",
    "        ax[j, i].plot(mu[i].detach().cpu().numpy().T)\n",
    "        ax[j, i].set_title('mu%d' % (i+1))\n",
    "        ax[j, 2+i].plot(var[i].detach().cpu().numpy().T)\n",
    "        ax[j, 2+i].set_title('var%d' % (i+1))\n",
    "    ax[j, 0].set_ylabel('epoch = %d' % t)\n",
    "fig.tight_layout(pad=0)"
   ]
  },
  {
   "cell_type": "code",
   "execution_count": null,
   "id": "8e056722-5f50-4a40-8a0b-4191c757a8d7",
   "metadata": {
    "tags": []
   },
   "outputs": [],
   "source": [
    "epochs = (30, 40, 50)#, 60, 70, 80)\n",
    "# paths = glob.glob('runs/MNIST_SVHN/22*')\n",
    "fig, ax = plt.subplots(ncols=len(epochs), nrows=len(paths), figsize=(len(epochs)*2, len(paths)*2))\n",
    "if len(paths) == 1:\n",
    "    ax = ax[None, :]\n",
    "for i, path in enumerate(paths):\n",
    "    for j, t in enumerate(epochs):\n",
    "        vae, _, _ = poisevae.utils.load_checkpoint(vae, load_path=os.path.join(path, 'training_%d.pt'%t))\n",
    "        G = np.zeros(vae.get_G().detach().cpu().numpy().shape)\n",
    "        g12_hat = vae.g12_hat.detach().cpu().numpy()\n",
    "        g21_hat = vae.g21_hat.detach().cpu().numpy()\n",
    "        G[:g12_hat.shape[0], g12_hat.shape[1]:] = g12_hat\n",
    "        G[g21_hat.shape[0]:, :g21_hat.shape[1]] = g21_hat\n",
    "        im = ax[i, j].imshow(np.abs(np.tanh(G)) < 0.8)\n",
    "        # fig.colorbar(im, ax=ax[i, j])\n",
    "        ax[i, j].set_axis_off()\n",
    "fig.tight_layout(pad=0.1)"
   ]
  },
  {
   "cell_type": "code",
   "execution_count": null,
   "id": "3918bfd2-1c52-4e84-9c41-f1cc8caab5ca",
   "metadata": {
    "tags": []
   },
   "outputs": [],
   "source": [
    "epochs = (30, 40, 50, 60, 70, 80)\n",
    "paths = glob.glob('runs/MNIST_SVHN/22*')\n",
    "fig, ax = plt.subplots(ncols=2, nrows=len(paths), figsize=(8, len(paths)*1), sharex='col')\n",
    "for i, path in enumerate(paths):\n",
    "    for j, t in enumerate(epochs):\n",
    "        vae, _, _ = poisevae.utils.load_checkpoint(vae, load_path=os.path.join(path, 'training_%d.pt'%t))\n",
    "        t1 = vae.get_t()[0]\n",
    "        im = ax[i, 0].plot(t1[0].detach().cpu().numpy(), c='r', alpha=0.2+j*0.8/len(epochs))\n",
    "        im = ax[i, 1].plot(t1[1].detach().cpu().numpy(), c='g', alpha=0.2+j*0.8/len(epochs))\n",
    "fig.tight_layout(pad=0)"
   ]
  },
  {
   "cell_type": "code",
   "execution_count": null,
   "id": "935700b1-e5a0-4dd9-9ff6-4e85d4bdae16",
   "metadata": {
    "tags": []
   },
   "outputs": [],
   "source": [
    "epochs = (30, 40, 50, 60, 70, 80)\n",
    "paths = glob.glob('runs/MNIST_SVHN/22*')\n",
    "fig, ax = plt.subplots(ncols=2, nrows=len(paths), figsize=(8, len(paths)*1), sharex='col')\n",
    "for i, path in enumerate(paths):\n",
    "    for j, t in enumerate(epochs):\n",
    "        vae, _, _ = poisevae.utils.load_checkpoint(vae, load_path=os.path.join(path, 'training_%d.pt'%t))\n",
    "        t2 = vae.get_t()[1]\n",
    "        im = ax[i, 0].plot(np.log(-t2[0].detach().cpu().numpy()), c='r', alpha=0.2+j*0.8/len(epochs))\n",
    "        im = ax[i, 1].plot(np.log(-t2[1].detach().cpu().numpy()), c='g', alpha=0.2+j*0.8/len(epochs))\n",
    "fig.tight_layout(pad=0)"
   ]
  },
  {
   "cell_type": "markdown",
   "id": "0cb288cc-7221-483a-9c51-11d602192897",
   "metadata": {
    "tags": []
   },
   "source": [
    "## Gradient Analysis"
   ]
  },
  {
   "cell_type": "code",
   "execution_count": null,
   "id": "1f94a3a5-0802-4f1c-9b6a-7936e4164d50",
   "metadata": {},
   "outputs": [],
   "source": [
    "df = poisevae._debug.read_debug_log('out.txt')"
   ]
  },
  {
   "cell_type": "code",
   "execution_count": null,
   "id": "bdb830fe-9a75-4973-af8b-457f58349163",
   "metadata": {},
   "outputs": [],
   "source": [
    "import seaborn as sns\n",
    "g = sns.FacetGrid(data=df, col='k', col_wrap=4, aspect=2, sharey=False)\n",
    "g.map(sns.lineplot, 'i', 'v')\n",
    "g.set_titles(col_template='{col_name}')\n",
    "g.tight_layout()"
   ]
  },
  {
   "cell_type": "code",
   "execution_count": null,
   "id": "68f24885-f2fd-4dcf-aac5-5e450ffce283",
   "metadata": {},
   "outputs": [],
   "source": [
    "df_dnup = df[(df.k == 'dnu1 KL') | (df.k == 'dnu2 KL')]\n",
    "g = sns.FacetGrid(data=df_dnup, col='k', col_wrap=4, ylim=[0, 1e5])\n",
    "g.map(sns.lineplot, 'i', 'v')\n",
    "g.set_titles(col_template='{col_name}')\n",
    "g.tight_layout()"
   ]
  },
  {
   "cell_type": "code",
   "execution_count": null,
   "id": "5f1066b1-d9b0-4775-8310-7c47783c8b13",
   "metadata": {},
   "outputs": [],
   "source": []
  }
 ],
 "metadata": {
  "kernelspec": {
   "display_name": "Python 3 (ipykernel)",
   "language": "python",
   "name": "python3"
  },
  "language_info": {
   "codemirror_mode": {
    "name": "ipython",
    "version": 3
   },
   "file_extension": ".py",
   "mimetype": "text/x-python",
   "name": "python",
   "nbconvert_exporter": "python",
   "pygments_lexer": "ipython3",
   "version": "3.8.10"
  }
 },
 "nbformat": 4,
 "nbformat_minor": 5
}
