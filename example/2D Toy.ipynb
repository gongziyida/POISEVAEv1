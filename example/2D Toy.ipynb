{
 "cells": [
  {
   "cell_type": "code",
   "execution_count": 1,
   "id": "fc6b966a-58e5-4c93-b751-37b5cc49526a",
   "metadata": {},
   "outputs": [],
   "source": [
    "import torch\n",
    "import torch.nn as nn\n",
    "from torch.distributions import Normal\n",
    "import torch.optim as optim\n",
    "import numpy as np\n",
    "import pandas as pd\n",
    "from torch.utils.data import DataLoader\n",
    "import matplotlib.pyplot as plt\n",
    "import seaborn as sns\n",
    "import random\n",
    "from tqdm import tqdm\n",
    "\n",
    "import poisevae\n",
    "random.seed(30)\n",
    "device = 'cuda' if torch.cuda.is_available() else 'cpu'"
   ]
  },
  {
   "cell_type": "code",
   "execution_count": 2,
   "id": "e952d9eb-9d09-48cf-9cc6-1961196625ea",
   "metadata": {},
   "outputs": [],
   "source": [
    "def sample(mu, var, nb_samples):\n",
    "    \"\"\"\n",
    "    :param mu: torch.Tensor (features)\n",
    "    :param var: torch.Tensor (features) (note: zero covariance)\n",
    "    :return: torch.Tensor (nb_samples, features)\n",
    "    \"\"\"\n",
    "    out = []\n",
    "    for i in range(nb_samples):\n",
    "        out += [torch.normal(mu, var.sqrt())]\n",
    "    return torch.stack(out, dim=0)\n",
    "## Creating synthetic datasets\n",
    "nb_samples=5000\n",
    "mu1  =torch.tensor(0.)   # . converts long to float\n",
    "var1 =torch.tensor(1.0)\n",
    "mu2  =torch.tensor(0.)   # . converts long to float\n",
    "var2 =torch.tensor(1.0)\n",
    "\n",
    "inp_data1=sample(mu1,var1,nb_samples)  \n",
    "inp_data1=inp_data1.unsqueeze(0)+torch.randn_like(inp_data1)##Adding gaussian noise to data\n",
    "inp_data1=torch.transpose(inp_data1,0,1)\n",
    "\n",
    "inp_data2=sample(mu2,var2,nb_samples)\n",
    "inp_data2=inp_data2.unsqueeze(0)+torch.randn_like(inp_data2)  ##Adding gaussian noise to data\n",
    "inp_data2=torch.transpose(inp_data2,0,1)"
   ]
  },
  {
   "cell_type": "code",
   "execution_count": 3,
   "id": "7a6802e1-eb1c-4c5c-b40b-342c49734ae9",
   "metadata": {},
   "outputs": [
    {
     "data": {
      "image/png": "[encoded data removed]",
      "text/plain": [
       "<Figure size 432x288 with 1 Axes>"
      ]
     },
     "metadata": {
      "needs_background": "light"
     },
     "output_type": "display_data"
    }
   ],
   "source": [
    "## Transforming data to a higher dimension\n",
    "\"\"\"\n",
    "inp_data= samplesx1\n",
    "fun_A   = 1xdim_exp\n",
    "data    = samplesxdim_exp   (data = inp_dataxfun_A)\n",
    "\"\"\"\n",
    "dim_exp = 2\n",
    "fun_A1 = torch.tensor([1, 1])\n",
    "fun_A2 = torch.tensor([1,-1])\n",
    "\n",
    "data1    = inp_data1 * fun_A1\n",
    "data2    = inp_data2 * fun_A2\n",
    "x1_cord = data1[:,0]\n",
    "y1_cord = data1[:,1]\n",
    "x2_cord = data2[:,0]\n",
    "y2_cord = data2[:,1]\n",
    "plt.plot(x1_cord,y1_cord, 'o', color='black')\n",
    "plt.plot(x2_cord,y2_cord, 'o', color='red')\n",
    "plt.show()"
   ]
  },
  {
   "cell_type": "code",
   "execution_count": 4,
   "id": "chubby-horse",
   "metadata": {},
   "outputs": [],
   "source": [
    "batch_size = 256\n",
    "train_loader_set1 = DataLoader(\n",
    "    data1[0:int(0.8*nb_samples),],\n",
    "    batch_size=batch_size,\n",
    "    shuffle=True,\n",
    "    drop_last=True\n",
    ")\n",
    "test_loader_set1 = DataLoader(\n",
    "    data1[int(0.8*nb_samples):,],\n",
    "    batch_size=batch_size,\n",
    "    shuffle=True,\n",
    "    drop_last=True\n",
    ")\n",
    "train_loader_set2 = DataLoader(\n",
    "    data2[0:int(0.8*nb_samples),],\n",
    "    batch_size=batch_size,\n",
    "    shuffle=True,\n",
    "    drop_last=True\n",
    ")\n",
    "test_loader_set2 = DataLoader(\n",
    "    data2[int(0.8*nb_samples):,],\n",
    "    batch_size=batch_size,\n",
    "    shuffle=True,\n",
    "    drop_last=True\n",
    ")"
   ]
  },
  {
   "cell_type": "code",
   "execution_count": 5,
   "id": "41f54039-9bad-4618-b150-a47b18cc37c2",
   "metadata": {},
   "outputs": [],
   "source": [
    "class Enc(nn.Module): # Linear\n",
    "    def __init__(self, dim_exp):\n",
    "        super().__init__()\n",
    "        self.enc = nn.Linear(dim_exp, 2)\n",
    "        self.nu1 = nn.Linear(2, 1)\n",
    "        self.log_nu2 = nn.Linear(2, 1)\n",
    "    def forward(self, x):\n",
    "        x = self.enc(x)\n",
    "        return self.nu1(x), self.log_nu2(x)\n",
    "    \n",
    "class Dec(nn.Module): \n",
    "    def __init__(self, dim_exp):\n",
    "        super().__init__()\n",
    "        self.dec = nn.Linear(1, dim_exp, bias=False)\n",
    "    def forward(self, z):\n",
    "        return self.dec(z), torch.tensor(1).to(z.device)"
   ]
  },
  {
   "cell_type": "code",
   "execution_count": 6,
   "id": "cffc11a9-2735-46d4-84b4-482a239c9ba3",
   "metadata": {},
   "outputs": [],
   "source": [
    "enc1 = Enc(dim_exp).to(device)\n",
    "dec1 = Dec(dim_exp).to(device)\n",
    "enc2 = Enc(dim_exp).to(device)\n",
    "dec2 = Dec(dim_exp).to(device)\n",
    "vae = poisevae.POISEVAE([enc1, enc2], [dec1, dec2], likelihoods=[Normal, Normal],\n",
    "                        latent_dims=[1, 1], batch_size=batch_size, fix_t=True).to(device)"
   ]
  },
  {
   "cell_type": "code",
   "execution_count": 7,
   "id": "51f1636f-4e44-4b3e-9709-3ce6a81cb909",
   "metadata": {},
   "outputs": [
    {
     "name": "stdout",
     "output_type": "stream",
     "text": [
      "g11\n",
      "g22_hat\n",
      "g12_hat\n",
      "g21_hat\n",
      "encoders.0.enc.weight\n",
      "encoders.0.enc.bias\n",
      "encoders.0.nu1.weight\n",
      "encoders.0.nu1.bias\n",
      "encoders.0.log_nu2.weight\n",
      "encoders.0.log_nu2.bias\n",
      "encoders.1.enc.weight\n",
      "encoders.1.enc.bias\n",
      "encoders.1.nu1.weight\n",
      "encoders.1.nu1.bias\n",
      "encoders.1.log_nu2.weight\n",
      "encoders.1.log_nu2.bias\n",
      "decoders.0.dec.weight\n",
      "decoders.1.dec.weight\n"
     ]
    }
   ],
   "source": [
    "for i in vae.named_parameters():\n",
    "    print(i[0])"
   ]
  },
  {
   "cell_type": "code",
   "execution_count": 8,
   "id": "1a45869c-4d7b-4402-9ca0-64c7709e7b23",
   "metadata": {},
   "outputs": [],
   "source": [
    "optimizer = optim.Adam(vae.parameters(), lr=5e-4)"
   ]
  },
  {
   "cell_type": "code",
   "execution_count": null,
   "id": "4a0a710d-9b80-4761-9425-50d60de14718",
   "metadata": {
    "tags": []
   },
   "outputs": [],
   "source": [
    "res = {'epoch': [], 'KL': [], 'rec1': [], 'rec2': [], 'total': [], 'type': []}\n",
    "for epoch in tqdm(range(300)):\n",
    "    vae.train()\n",
    "    for data1,data2 in zip(train_loader_set1, train_loader_set2):\n",
    "        data = data1.to(device), data2.to(device)\n",
    "        optimizer.zero_grad()\n",
    "        results = vae(data)\n",
    "        results['total_loss'].backward()\n",
    "        optimizer.step()\n",
    "        res['epoch'].append(epoch+1)\n",
    "        res['KL'].append(results['KL_loss'].item())\n",
    "        res['rec1'].append(results['rec_losses'][0].item())\n",
    "        res['rec2'].append(results['rec_losses'][1].item())\n",
    "        res['total'].append(results['total_loss'].item())\n",
    "        res['type'].append('train')\n",
    "    with torch.no_grad():\n",
    "        for data1,data2 in zip(test_loader_set1, test_loader_set2):\n",
    "            data = data1.to(device), data2.to(device)\n",
    "            results = vae(data)\n",
    "            res['epoch'].append(epoch+1)\n",
    "            res['KL'].append(results['KL_loss'].item())\n",
    "            res['rec1'].append(results['rec_losses'][0].item())\n",
    "            res['rec2'].append(results['rec_losses'][1].item())\n",
    "            res['total'].append(results['total_loss'].item())\n",
    "            res['type'].append('eval')"
   ]
  },
  {
   "cell_type": "code",
   "execution_count": null,
   "id": "a88a5eef-f3a8-4824-b33d-d759a2838e54",
   "metadata": {},
   "outputs": [],
   "source": [
    "res = pd.DataFrame(res)"
   ]
  },
  {
   "cell_type": "code",
   "execution_count": null,
   "id": "1b8a9dfc-fe41-4af8-bd3c-3299215461cc",
   "metadata": {},
   "outputs": [],
   "source": [
    "fig, ax = plt.subplots(2, 2, figsize=(8, 5), sharex='all')\n",
    "sns.lineplot(data=res, x='epoch', y='total', hue='type', ax=ax[0, 0], ci='sd')\n",
    "sns.lineplot(data=res, x='epoch', y='KL', hue='type', ax=ax[0, 1], ci='sd')\n",
    "sns.lineplot(data=res, x='epoch', y='rec1', hue='type', ax=ax[1, 0], ci='sd')\n",
    "sns.lineplot(data=res, x='epoch', y='rec2', hue='type', ax=ax[1, 1], ci='sd')\n",
    "fig.tight_layout()"
   ]
  },
  {
   "cell_type": "code",
   "execution_count": null,
   "id": "efeed4b7-74c8-40ea-80c0-e4f3a026404b",
   "metadata": {},
   "outputs": [],
   "source": [
    "with torch.no_grad():\n",
    "    for data1,data2 in zip(test_loader_set1, test_loader_set2):\n",
    "        data = data1.to(device), data2.to(device)\n",
    "        results = vae(data)\n",
    "        break\n",
    "fetch_np_array = lambda x, f=lambda x: x: torch.stack([f(x[0]), f(x[1])], dim=0).detach().cpu().numpy()\n",
    "data = fetch_np_array(data)\n",
    "rec = fetch_np_array(results['x_rec'], lambda x: x.loc)\n",
    "rec_reshape = fetch_np_array(results['x_rec'], lambda x: x.loc.view(-1, 2))\n",
    "nu1 = fetch_np_array(results['nu1'])\n",
    "nu2 = fetch_np_array(results['nu2'])\n",
    "z = fetch_np_array(results['z'])\n",
    "w = results['weights'].cpu().detach().numpy().squeeze()"
   ]
  },
  {
   "cell_type": "code",
   "execution_count": null,
   "id": "e5b668a7-5040-486f-a8ae-99f4112f38af",
   "metadata": {},
   "outputs": [],
   "source": [
    "def plot_result(data, res, w):\n",
    "    fig, ax = plt.subplots(2, sharex='all', sharey='all')\n",
    "    ax[0].plot(*data[0].T, 'o', color='C0', label='true set1', markersize=3)\n",
    "    ax[0].plot(*data[1].T, 'o', color='C1', label='true set2', markersize=3)\n",
    "    ax[0].legend()\n",
    "    \n",
    "    w = (w - w.min(axis=1)[:, None]) / (w.max(axis=1) - w.min(axis=1))[:, None]\n",
    "    for n in range(res.shape[1]):\n",
    "        for i in range(w.shape[1]):\n",
    "            ax[1].plot(*res[0, n, i].T, 'o', color='C0', alpha=w[n, i], markersize=3)\n",
    "            ax[1].plot(*res[1, n, i].T, 'o', color='C1', alpha=w[n, i], markersize=3)\n",
    "    return fig, ax"
   ]
  },
  {
   "cell_type": "code",
   "execution_count": null,
   "id": "ee605ad4-b419-4ed6-aeac-5f00b4a84945",
   "metadata": {},
   "outputs": [],
   "source": [
    "# With weighting\n",
    "plot_result(data, rec, w)"
   ]
  },
  {
   "cell_type": "code",
   "execution_count": null,
   "id": "add1e61d-dad7-46a6-b56d-e13e7767c845",
   "metadata": {},
   "outputs": [],
   "source": [
    "# Without weighting\n",
    "fig, ax = plt.subplots(2, sharex='all', sharey='all')\n",
    "for i, (d, l) in enumerate(zip((data, rec_reshape), ('true', 'rec'))):\n",
    "    ax[i].scatter(*d[0].T, s=5, color='C0', label=l + ' set1')\n",
    "    ax[i].scatter(*d[1].T, s=5, color='C1', label=l + ' set2')\n",
    "    ax[i].legend()\n",
    "fig.tight_layout()"
   ]
  },
  {
   "cell_type": "code",
   "execution_count": null,
   "id": "0c443381-3342-4612-8036-d85a90ec45c6",
   "metadata": {},
   "outputs": [],
   "source": [
    "fig, ax = plt.subplots(2, sharex='all', sharey='all')\n",
    "for k in range(3):\n",
    "    n = np.random.randint(0, batch_size)\n",
    "    ax[0].plot(*data[0, n:n+1].T, 's', color='C%d'%k)\n",
    "    ax[0].plot(*data[1, n:n+1].T, 'o', color='C%d'%k)\n",
    "    for i in range(w.shape[1]):\n",
    "        ax[1].plot(*rec[0, n:n+1, i].T, 's', color='C%d'%k, alpha=w[n, i])\n",
    "        ax[1].plot(*rec[1, n:n+1, i].T, 'o', color='C%d'%k, alpha=w[n, i])\n",
    "fig.tight_layout()"
   ]
  },
  {
   "cell_type": "code",
   "execution_count": null,
   "id": "e0a87673-9b51-452c-b2a9-76094fa35661",
   "metadata": {},
   "outputs": [],
   "source": [
    "with torch.no_grad():\n",
    "    results = vae.generate(50)\n",
    "fetch_np_array = lambda x, f=lambda x: x: torch.stack([f(x[0]), f(x[1])], dim=0).detach().cpu().numpy()\n",
    "gen = fetch_np_array(results['x_rec'], lambda x: x.loc)\n",
    "gen_reshape = fetch_np_array(results['x_rec'], lambda x: x.loc.view(-1, 2))\n",
    "z_gen = fetch_np_array(results['z'])\n",
    "w = results['weights'].cpu().detach().numpy()"
   ]
  },
  {
   "cell_type": "code",
   "execution_count": null,
   "id": "fc19d54d-cadf-4614-9f03-1db86bc55462",
   "metadata": {},
   "outputs": [],
   "source": [
    "# With weighting\n",
    "plot_result(data, gen, w)"
   ]
  },
  {
   "cell_type": "code",
   "execution_count": null,
   "id": "d7247ec8-229c-4089-867e-d6fc184a4b08",
   "metadata": {},
   "outputs": [],
   "source": [
    "# Without weighting\n",
    "fig, ax = plt.subplots(2, sharex='all', sharey='all')\n",
    "ax[0].scatter(*data[0].T, s=5, color='C0', label='true set1')\n",
    "ax[0].scatter(*data[1].T, s=5, color='C1', label='true set2')\n",
    "ax[0].legend()\n",
    "for i in range(w.shape[0]):\n",
    "    ax[1].scatter(*gen[0, :, i].T, s=5, color='C0')#, alpha=w[i])\n",
    "    ax[1].scatter(*gen[1, :, i].T, s=5, color='C1')#, alpha=w[i])\n",
    "fig.tight_layout()"
   ]
  },
  {
   "cell_type": "code",
   "execution_count": null,
   "id": "19d55c06-c35a-4b8d-b7a6-738176296de0",
   "metadata": {},
   "outputs": [],
   "source": []
  }
 ],
 "metadata": {
  "kernelspec": {
   "display_name": "Python 3 (ipykernel)",
   "language": "python",
   "name": "python3"
  },
  "language_info": {
   "codemirror_mode": {
    "name": "ipython",
    "version": 3
   },
   "file_extension": ".py",
   "mimetype": "text/x-python",
   "name": "python",
   "nbconvert_exporter": "python",
   "pygments_lexer": "ipython3",
   "version": "3.8.10"
  }
 },
 "nbformat": 4,
 "nbformat_minor": 5
}
