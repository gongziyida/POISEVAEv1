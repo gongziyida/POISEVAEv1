{
 "cells": [
  {
   "cell_type": "code",
   "execution_count": 1,
   "id": "155ea9f1-702b-434e-8a3f-4d10aa0869d4",
   "metadata": {},
   "outputs": [],
   "source": [
    "import os\n",
    "import numpy as np\n",
    "import torch\n",
    "import matplotlib.pyplot as plt\n",
    "from poisevae.utils import augment_MNIST_SVHN, MNIST_SVHN"
   ]
  },
  {
   "cell_type": "code",
   "execution_count": 2,
   "id": "98409578-94c0-430d-b0ce-3e9575960d83",
   "metadata": {},
   "outputs": [],
   "source": [
    "HOME_PATH = os.path.expanduser('~')\n",
    "MNIST_PATH = os.path.join(HOME_PATH, 'Datasets/MNIST/MNIST/processed/%s.pt')\n",
    "SVHN_PATH = os.path.join(HOME_PATH, 'Datasets/SVHN/%s_32x32.mat')\n",
    "idx_mnist_train, idx_svhn_train = augment_MNIST_SVHN(MNIST_PATH % 'train', SVHN_PATH % 'train', \n",
    "                                                     'MNIST_train_idx', 'SVHN_train_idx', max_d=10000, dm=20)\n",
    "idx_mnist_test, idx_svhn_test = augment_MNIST_SVHN(MNIST_PATH % 'test', SVHN_PATH % 'test', \n",
    "                                                   'MNIST_test_idx', 'SVHN_test_idx', max_d=10000, dm=20)"
   ]
  },
  {
   "cell_type": "code",
   "execution_count": 3,
   "id": "c5f03ee8-11d0-40c8-a087-84bf55a325e3",
   "metadata": {},
   "outputs": [
    {
     "ename": "NameError",
     "evalue": "name 'MNIST_SVHN' is not defined",
     "output_type": "error",
     "traceback": [
      "\u001b[0;31m---------------------------------------------------------------------------\u001b[0m",
      "\u001b[0;31mNameError\u001b[0m                                 Traceback (most recent call last)",
      "\u001b[0;32m/tmp/ipykernel_252237/1684354471.py\u001b[0m in \u001b[0;36m<module>\u001b[0;34m\u001b[0m\n\u001b[0;32m----> 1\u001b[0;31m \u001b[0mjoint_dataset_train\u001b[0m \u001b[0;34m=\u001b[0m \u001b[0mMNIST_SVHN\u001b[0m\u001b[0;34m(\u001b[0m\u001b[0mMNIST_PATH\u001b[0m \u001b[0;34m%\u001b[0m \u001b[0;34m'train'\u001b[0m\u001b[0;34m,\u001b[0m \u001b[0mSVHN_PATH\u001b[0m \u001b[0;34m%\u001b[0m \u001b[0;34m'train'\u001b[0m\u001b[0;34m,\u001b[0m \u001b[0midx_mnist_train\u001b[0m\u001b[0;34m,\u001b[0m \u001b[0midx_svhn_train\u001b[0m\u001b[0;34m)\u001b[0m\u001b[0;34m\u001b[0m\u001b[0;34m\u001b[0m\u001b[0m\n\u001b[0m\u001b[1;32m      2\u001b[0m \u001b[0mjoint_dataset_test\u001b[0m \u001b[0;34m=\u001b[0m \u001b[0mMNIST_SVHN\u001b[0m\u001b[0;34m(\u001b[0m\u001b[0mMNIST_PATH\u001b[0m \u001b[0;34m%\u001b[0m \u001b[0;34m'test'\u001b[0m\u001b[0;34m,\u001b[0m \u001b[0mSVHN_PATH\u001b[0m \u001b[0;34m%\u001b[0m \u001b[0;34m'test'\u001b[0m\u001b[0;34m,\u001b[0m \u001b[0midx_mnist_test\u001b[0m\u001b[0;34m,\u001b[0m \u001b[0midx_svhn_test\u001b[0m\u001b[0;34m)\u001b[0m\u001b[0;34m\u001b[0m\u001b[0;34m\u001b[0m\u001b[0m\n\u001b[1;32m      3\u001b[0m \u001b[0mlen\u001b[0m\u001b[0;34m(\u001b[0m\u001b[0mjoint_dataset_train\u001b[0m\u001b[0;34m)\u001b[0m\u001b[0;34m,\u001b[0m \u001b[0mlen\u001b[0m\u001b[0;34m(\u001b[0m\u001b[0mjoint_dataset_test\u001b[0m\u001b[0;34m)\u001b[0m\u001b[0;34m\u001b[0m\u001b[0;34m\u001b[0m\u001b[0m\n",
      "\u001b[0;31mNameError\u001b[0m: name 'MNIST_SVHN' is not defined"
     ]
    }
   ],
   "source": [
    "joint_dataset_train = MNIST_SVHN(MNIST_PATH % 'train', SVHN_PATH % 'train', idx_mnist_train, idx_svhn_train)\n",
    "joint_dataset_test = MNIST_SVHN(MNIST_PATH % 'test', SVHN_PATH % 'test', idx_mnist_test, idx_svhn_test)\n",
    "len(joint_dataset_train), len(joint_dataset_test)"
   ]
  },
  {
   "cell_type": "code",
   "execution_count": null,
   "id": "9c23a527-8bf4-4fd3-8203-2a941a38f442",
   "metadata": {},
   "outputs": [],
   "source": [
    "train_loader = torch.utils.data.DataLoader(joint_dataset_train, batch_size=128, shuffle=True)\n",
    "test_loader = torch.utils.data.DataLoader(joint_dataset_test, batch_size=128, shuffle=True)"
   ]
  },
  {
   "cell_type": "code",
   "execution_count": null,
   "id": "3f6b06c1-dc08-46ae-876e-7cd273e1ab77",
   "metadata": {},
   "outputs": [],
   "source": [
    "for im1, im2, l1, l2 in train_loader:\n",
    "    break\n",
    "    \n",
    "fig, ax = plt.subplots(nrows=20, ncols=10, figsize=(5, 10))\n",
    "for i in range(10):\n",
    "    for j in range(10):\n",
    "        ax[i*2, j].imshow(im1[i*10+j].cpu().numpy().reshape(28, 28), cmap='gray')\n",
    "        ax[i*2+1, j].imshow(im2[i*10+j].cpu().numpy().transpose(1, 2, 0))\n",
    "        ax[i*2+1, j].set_xticks([])\n",
    "        ax[i*2, j].set_yticks([])\n",
    "        ax[i*2+1, j].set_yticks([])\n",
    "        ax[i*2, j].set_xticks([])\n",
    "fig.tight_layout(pad=0)"
   ]
  },
  {
   "cell_type": "code",
   "execution_count": null,
   "id": "8f3f1452-2d53-40e1-9cf7-bc0d1a6fe744",
   "metadata": {},
   "outputs": [],
   "source": [
    "for im1, im2, l1, l2 in test_loader:\n",
    "    break\n",
    "    \n",
    "fig, ax = plt.subplots(nrows=20, ncols=10, figsize=(5, 10))\n",
    "for i in range(10):\n",
    "    for j in range(10):\n",
    "        ax[i*2, j].imshow(im1[i*10+j].cpu().numpy().reshape(28, 28), cmap='gray')\n",
    "        ax[i*2+1, j].imshow(im2[i*10+j].cpu().numpy().transpose(1, 2, 0))\n",
    "        ax[i*2+1, j].set_xticks([])\n",
    "        ax[i*2, j].set_yticks([])\n",
    "        ax[i*2+1, j].set_yticks([])\n",
    "        ax[i*2, j].set_xticks([])\n",
    "fig.tight_layout(pad=0)"
   ]
  },
  {
   "cell_type": "markdown",
   "id": "045e84fe-e749-46f6-a033-17f417940fc3",
   "metadata": {},
   "source": [
    "## Without Augmentation"
   ]
  },
  {
   "cell_type": "code",
   "execution_count": null,
   "id": "b9420998-88b4-40c1-927e-636f99aea37f",
   "metadata": {},
   "outputs": [],
   "source": [
    "joint_dataset_train = MNIST_SVHN(MNIST_PATH % 'train', SVHN_PATH % 'train')\n",
    "joint_dataset_test = MNIST_SVHN(MNIST_PATH % 'test', SVHN_PATH % 'test')\n",
    "len(joint_dataset_train), len(joint_dataset_test)"
   ]
  },
  {
   "cell_type": "code",
   "execution_count": null,
   "id": "585b0379-1a99-47d9-b131-02aacc69b7f7",
   "metadata": {},
   "outputs": [],
   "source": [
    "train_loader = torch.utils.data.DataLoader(joint_dataset_train, batch_size=128, shuffle=True)\n",
    "test_loader = torch.utils.data.DataLoader(joint_dataset_test, batch_size=128, shuffle=True)"
   ]
  },
  {
   "cell_type": "code",
   "execution_count": null,
   "id": "cd877859-0da9-4221-ac35-61e0106d0832",
   "metadata": {},
   "outputs": [],
   "source": [
    "for im1, im2, l1, l2 in train_loader:\n",
    "    break\n",
    "    \n",
    "fig, ax = plt.subplots(nrows=20, ncols=10, figsize=(5, 10))\n",
    "for i in range(10):\n",
    "    for j in range(10):\n",
    "        ax[i*2, j].imshow(im1[i*10+j].cpu().numpy().reshape(28, 28), cmap='gray')\n",
    "        ax[i*2+1, j].imshow(im2[i*10+j].cpu().numpy().transpose(1, 2, 0))\n",
    "        ax[i*2+1, j].set_xticks([])\n",
    "        ax[i*2, j].set_yticks([])\n",
    "        ax[i*2+1, j].set_yticks([])\n",
    "        ax[i*2, j].set_xticks([])\n",
    "fig.tight_layout(pad=0)"
   ]
  },
  {
   "cell_type": "code",
   "execution_count": null,
   "id": "6a889952-6362-434a-a9dc-4fdc144840fc",
   "metadata": {},
   "outputs": [],
   "source": [
    "for im1, im2, l1, l2 in test_loader:\n",
    "    break\n",
    "    \n",
    "fig, ax = plt.subplots(nrows=20, ncols=10, figsize=(5, 10))\n",
    "for i in range(10):\n",
    "    for j in range(10):\n",
    "        ax[i*2, j].imshow(im1[i*10+j].cpu().numpy().reshape(28, 28), cmap='gray')\n",
    "        ax[i*2+1, j].imshow(im2[i*10+j].cpu().numpy().transpose(1, 2, 0))\n",
    "        ax[i*2+1, j].set_xticks([])\n",
    "        ax[i*2, j].set_yticks([])\n",
    "        ax[i*2+1, j].set_yticks([])\n",
    "        ax[i*2, j].set_xticks([])\n",
    "fig.tight_layout(pad=0)"
   ]
  }
 ],
 "metadata": {
  "kernelspec": {
   "display_name": "Python 3 (ipykernel)",
   "language": "python",
   "name": "python3"
  },
  "language_info": {
   "codemirror_mode": {
    "name": "ipython",
    "version": 3
   },
   "file_extension": ".py",
   "mimetype": "text/x-python",
   "name": "python",
   "nbconvert_exporter": "python",
   "pygments_lexer": "ipython3",
   "version": "3.8.10"
  }
 },
 "nbformat": 4,
 "nbformat_minor": 5
}
