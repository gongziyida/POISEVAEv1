{
 "cells": [
  {
   "cell_type": "code",
   "execution_count": 1,
   "id": "f14dd4fe-64cf-45c8-a5fa-95287ff7b034",
   "metadata": {},
   "outputs": [],
   "source": [
    "import sys\n",
    "import os, copy, time\n",
    "import random\n",
    "import numpy as np\n",
    "import torch\n",
    "HOME_PATH = os.path.expanduser('~')\n",
    "sys.path.append(os.path.join(HOME_PATH, 'vae_project/PixelCNN-Pytorch'))\n",
    "\n",
    "import torch.nn as nn\n",
    "import torch.optim as optim\n",
    "from torch.distributions import Normal, Laplace\n",
    "from tqdm import tqdm\n",
    "import matplotlib.pyplot as plt\n",
    "import poisevae\n",
    "from poisevae.utils import CategoricalImage as Categorical\n",
    "from poisevae.datasets import MNIST_SVHN\n",
    "from poisevae.networks.MNISTMNISTNetworks_X import EncMNIST1, DecMNIST1, EncMNIST2, DecMNIST2\n",
    "from poisevae.networks.MNISTSVHNNetworks_pixelcnn import pixelcnn_decoder\n",
    "from Model import PixelCNN\n",
    "\n",
    "device = 'cuda' if torch.cuda.is_available() else 'cpu'"
   ]
  },
  {
   "cell_type": "code",
   "execution_count": 2,
   "id": "cc36e35d-40f9-4ddf-a3ae-a9a9bfb97ed7",
   "metadata": {},
   "outputs": [],
   "source": [
    "MNIST_PATH = os.path.join(HOME_PATH, 'Datasets/MNIST/%s.pt')\n",
    "SVHN_PATH = os.path.join(HOME_PATH, 'Datasets/SVHN/%s_32x32.mat')\n",
    "\n",
    "joint_dataset_train = MNIST_SVHN(mnist_pt_path=MNIST_PATH % 'train', svhn_mat_path=SVHN_PATH % 'train')\n",
    "joint_dataset_test = MNIST_SVHN(mnist_pt_path=MNIST_PATH % 'test', svhn_mat_path=SVHN_PATH % 'test')"
   ]
  },
  {
   "cell_type": "code",
   "execution_count": 3,
   "id": "4e907275-75f5-46dd-9073-60da4b8d504e",
   "metadata": {},
   "outputs": [
    {
     "data": {
      "text/plain": [
       "(1874, 312)"
      ]
     },
     "execution_count": 3,
     "metadata": {},
     "output_type": "execute_result"
    }
   ],
   "source": [
    "batch_size = 32\n",
    "train_loader = torch.utils.data.DataLoader(joint_dataset_train, batch_size=batch_size, shuffle=True, drop_last=True)\n",
    "test_loader = torch.utils.data.DataLoader(joint_dataset_test, batch_size=batch_size, shuffle=True, drop_last=True)\n",
    "len(train_loader), len(test_loader)"
   ]
  },
  {
   "cell_type": "code",
   "execution_count": 4,
   "id": "3d9a1273-b8a0-4692-b5e8-6db8ee6b84e7",
   "metadata": {},
   "outputs": [],
   "source": [
    "lat1, lat2 = 20, 20\n",
    "enc_mnist1 = EncMNIST1(lat1, lat2).to(device)\n",
    "enc_mnist2 = EncMNIST2(lat1, lat2).to(device)\n",
    "\n",
    "mlp1 = torch.nn.Sequential(nn.Linear(lat1, 8), nn.ReLU(inplace=True), nn.Linear(8, 1))\n",
    "mlp2 = torch.nn.Sequential(nn.Linear(lat2, 8), nn.ReLU(inplace=True), nn.Linear(8, 1))\n",
    "\n",
    "dec_mnist1 = pixelcnn_decoder(mlp1, PixelCNN(no_layers=3), (1, 28, 28)).to(device)\n",
    "dec_mnist2 = pixelcnn_decoder(mlp1, PixelCNN(no_layers=3), (1, 28, 28)).to(device)\n",
    "\n",
    "# Options: 'autograd' and 'gradient'\n",
    "vae = poisevae.POISEVAE_Gibbs('gradient',\n",
    "                              [enc_mnist1, enc_mnist2], [dec_mnist1, dec_mnist2], likelihoods=[Categorical, Categorical],\n",
    "                              latent_dims=[lat1, (lat2)], enc_config='nu', KL_calc='derivative', \n",
    "                              batch_size=batch_size, reduction='mean'\n",
    "                             ).to(device)\n",
    "optimizer = optim.Adam(vae.parameters(), lr=1e-3)\n",
    "writer = None"
   ]
  },
  {
   "cell_type": "code",
   "execution_count": 5,
   "id": "52d26392-06fe-43b9-8122-83bba3b244e5",
   "metadata": {},
   "outputs": [
    {
     "name": "stdout",
     "output_type": "stream",
     "text": [
      "mu max: 0.16091635823249817 mu mean: 0.05937446281313896\n",
      "mup max: 0.19173772633075714 mup mean: 0.04307272657752037\n",
      "var min: 0.8618493676185608 var mean: 1.0055755376815796\n",
      "varp min: 0.8768165707588196 varp mean: 0.9829151034355164\n",
      "total loss: 8730.015625 kl term: 0.0\n",
      "rec1 loss: 4403.138541666666 rec2 loss: 4326.877083333334\n",
      "\n"
     ]
    }
   ],
   "source": [
    "with torch.no_grad():\n",
    "    for i, data in enumerate(test_loader):\n",
    "        # with poisevae._debug.Capturing() as output:\n",
    "        results = vae([data[0].to(device, dtype=torch.float32), data[0].to(device, dtype=torch.float32)])#, \n",
    "                      # n_gibbs_iter=30)\n",
    "        break"
   ]
  },
  {
   "cell_type": "code",
   "execution_count": null,
   "id": "0fd63ba3-baf3-4d88-917f-fafd9111cef1",
   "metadata": {},
   "outputs": [],
   "source": []
  }
 ],
 "metadata": {
  "kernelspec": {
   "display_name": "Python 3 (ipykernel)",
   "language": "python",
   "name": "python3"
  },
  "language_info": {
   "codemirror_mode": {
    "name": "ipython",
    "version": 3
   },
   "file_extension": ".py",
   "mimetype": "text/x-python",
   "name": "python",
   "nbconvert_exporter": "python",
   "pygments_lexer": "ipython3",
   "version": "3.8.10"
  }
 },
 "nbformat": 4,
 "nbformat_minor": 5
}
